{
 "cells": [
  {
   "cell_type": "markdown",
   "id": "1277360f",
   "metadata": {},
   "source": [
    "# FVGP Single Task Notebook\n",
    "In this notebook we will go through a few features of fvGP. We will be primarily concerned with regression over a single dimension output and single task. See the multiple_task_test_notebook.ipynb for single dimension and multiple task example. The extension to multiple dimensions is straight forward."
   ]
  },
  {
   "cell_type": "markdown",
   "id": "3e11ea1f",
   "metadata": {},
   "source": [
    "## Import fvgp and relevant libraries"
   ]
  },
  {
   "cell_type": "code",
   "execution_count": 1,
   "id": "5f9d2e1c",
   "metadata": {},
   "outputs": [],
   "source": [
    "import fvgp\n",
    "from fvgp import gp\n",
    "import numpy as np\n",
    "import matplotlib.pyplot as plt"
   ]
  },
  {
   "cell_type": "markdown",
   "id": "686ae840",
   "metadata": {},
   "source": [
    "## Defining some input data and testing points"
   ]
  },
  {
   "cell_type": "code",
   "execution_count": 2,
   "id": "bf9a09b3",
   "metadata": {},
   "outputs": [],
   "source": [
    "def test_data_function(x):\n",
    "    return np.sin(0.1 * x)+np.cos(0.05 * x)"
   ]
  },
  {
   "cell_type": "code",
   "execution_count": 3,
   "id": "189646dc",
   "metadata": {},
   "outputs": [],
   "source": [
    "x_input = np.linspace(-2*np.pi, 10*np.pi,20)"
   ]
  },
  {
   "cell_type": "code",
   "execution_count": 4,
   "id": "2e385188",
   "metadata": {},
   "outputs": [],
   "source": [
    "y_output = test_data_function(x_input)"
   ]
  },
  {
   "cell_type": "code",
   "execution_count": 5,
   "id": "d99cc91b",
   "metadata": {},
   "outputs": [],
   "source": [
    "x_input_test = np.linspace(-2*np.pi, 10*np.pi, 100)"
   ]
  },
  {
   "cell_type": "markdown",
   "id": "b17c459d",
   "metadata": {},
   "source": [
    "## Setting up the fvgp single task object\n",
    "NOTE: The input data need to be given in the form (N x input_space_dim). The output can either be a N array or N x 1 array where N is the number of data points. See help(gp.GP) for more information."
   ]
  },
  {
   "cell_type": "code",
   "execution_count": 6,
   "id": "4cc69ef9",
   "metadata": {},
   "outputs": [
    {
     "name": "stdout",
     "output_type": "stream",
     "text": [
      "CAUTION: you have not provided data variances in fvGP,\n",
      "they will be set to 1 percent of the data values!\n"
     ]
    }
   ],
   "source": [
    "obj = gp.GP(input_space_dim = 1, points = x_input.reshape(-1,1),\n",
    "                            values = y_output.reshape(-1,1),\n",
    "                           init_hyperparameters = np.array([10,10]))"
   ]
  },
  {
   "cell_type": "markdown",
   "id": "3d8ca338",
   "metadata": {},
   "source": [
    "## Training our gaussian process regression on given data\n"
   ]
  },
  {
   "cell_type": "code",
   "execution_count": 7,
   "id": "316665dc",
   "metadata": {
    "scrolled": false
   },
   "outputs": [
    {
     "name": "stdout",
     "output_type": "stream",
     "text": [
      "Blocking main thread...\n",
      "fvGP training started with  20  data points\n",
      "fvGP hyperparameter tuning in progress. Old hyperparameters:  [10 10]  with old log likelihood:  31.008946083279657\n",
      "method:  hgdl\n",
      "fvGP submitted HGDL optimization\n",
      "bounds are [[1.e-04 1.e+06]\n",
      " [1.e-06 1.e+02]]\n",
      "HGDL successfully initiated\n",
      "deflation radius set to  0.099999999\n",
      "========================\n",
      "Host  tcp://127.0.0.1:36011  has  3  workers.\n",
      "<Client: 'tcp://127.0.0.1:37177' processes=4 threads=16, memory=31.30 GiB>\n",
      "HGDL starts with:  [[1.00000000e+01 1.00000000e+01]\n",
      " [1.79133006e+05 5.97352485e+01]\n",
      " [3.30262061e+05 3.58189567e+01]]\n",
      "HGDL kill client initialized ...\n",
      "HGDL kill client successful\n",
      "free again\n",
      "this also killed the client\n"
     ]
    }
   ],
   "source": [
    "hyper_param_bounds = np.array([[0.0001, 1000000],[ 0.000001, 100]])\n",
    "##this will block the main thread, even if you use \"hgdl\", another option is \"global\" or \"local\"\n",
    "print(\"Blocking main thread...\")\n",
    "obj.train(hyper_param_bounds, method = \"hgdl\")\n",
    "print(\"free again\")\n",
    "print(\"this also killed the client\")"
   ]
  },
  {
   "cell_type": "markdown",
   "id": "ac9b88ee",
   "metadata": {},
   "source": [
    "## Looking the posterior mean at the test points"
   ]
  },
  {
   "cell_type": "code",
   "execution_count": 8,
   "id": "9f4059cf",
   "metadata": {},
   "outputs": [],
   "source": [
    "post_mean= obj.posterior_mean(x_input_test.reshape(-1,1))"
   ]
  },
  {
   "cell_type": "code",
   "execution_count": 9,
   "id": "e03feaf7",
   "metadata": {
    "scrolled": true
   },
   "outputs": [
    {
     "data": {
      "text/plain": [
       "<matplotlib.legend.Legend at 0x7f6db48c7a90>"
      ]
     },
     "execution_count": 9,
     "metadata": {},
     "output_type": "execute_result"
    },
    {
     "data": {
      "image/png": "[encoded data removed]",
      "text/plain": [
       "<Figure size 432x288 with 1 Axes>"
      ]
     },
     "metadata": {
      "needs_background": "light"
     },
     "output_type": "display_data"
    }
   ],
   "source": [
    "plt.plot(x_input_test, post_mean['f(x)'], label='gp interpolation')\n",
    "plt.scatter(x_input, y_output, label='data')\n",
    "plt.plot(x_input_test,test_data_function(x_input_test), label = '')\n",
    "plt.legend()"
   ]
  },
  {
   "cell_type": "markdown",
   "id": "e9bd1eef",
   "metadata": {},
   "source": [
    "# Training Asynchronously "
   ]
  },
  {
   "cell_type": "code",
   "execution_count": 10,
   "id": "b219aa02",
   "metadata": {},
   "outputs": [],
   "source": [
    "obj = gp.GP(input_space_dim = 1, points = x_input.reshape(-1,1),\n",
    "                            values = y_output.reshape(-1,1),\n",
    "                           init_hyperparameters = np.array([10,10]),\n",
    "                            variances = np.zeros(y_output.reshape(-1,1).shape))\n"
   ]
  },
  {
   "cell_type": "code",
   "execution_count": 11,
   "id": "268a6028",
   "metadata": {
    "scrolled": true
   },
   "outputs": [],
   "source": [
    "hyper_param_bounds = np.array([[0.0001, 100], [ 0.0001, 100]])"
   ]
  },
  {
   "cell_type": "code",
   "execution_count": 12,
   "id": "c4c13783",
   "metadata": {
    "scrolled": true
   },
   "outputs": [
    {
     "name": "stdout",
     "output_type": "stream",
     "text": [
      "Async fvGP training started with  20  data points\n",
      "fvGP submitted HGDL optimization for asynchronous training\n",
      "bounds: [[1.e-04 1.e+02]\n",
      " [1.e-04 1.e+02]]\n",
      "deflation radius:  None\n",
      "HGDL successfully initiated\n",
      "deflation radius set to  0.0999999\n",
      "========================\n",
      "Host  tcp://127.0.0.1:33955  has  3  workers.\n",
      "<Client: 'tcp://127.0.0.1:38419' processes=4 threads=16, memory=31.30 GiB>\n",
      "HGDL starts with:  [[10.         10.        ]\n",
      " [44.27521789 62.01636734]\n",
      " [60.133964   82.39812636]]\n"
     ]
    }
   ],
   "source": [
    "async_obj = obj.train_async(hyper_param_bounds)"
   ]
  },
  {
   "cell_type": "markdown",
   "id": "084bb807",
   "metadata": {},
   "source": [
    "## Updating asynchronously\n",
    "Updates hyperparameters to current optimization values"
   ]
  },
  {
   "cell_type": "code",
   "execution_count": 13,
   "id": "bdbaa225",
   "metadata": {
    "scrolled": true
   },
   "outputs": [
    {
     "name": "stdout",
     "output_type": "stream",
     "text": [
      "Updating the hyperparameters in fvGP...\n",
      "    fvGP async hyperparameter update successful\n",
      "    Latest hyperparameters:  [ 0.7054829  80.37958402]\n"
     ]
    },
    {
     "data": {
      "text/plain": [
       "array([ 0.7054829 , 80.37958402])"
      ]
     },
     "execution_count": 13,
     "metadata": {},
     "output_type": "execute_result"
    }
   ],
   "source": [
    "obj.update_hyperparameters(async_obj)"
   ]
  },
  {
   "cell_type": "markdown",
   "id": "fa679810",
   "metadata": {},
   "source": [
    "## Killing training \n"
   ]
  },
  {
   "cell_type": "code",
   "execution_count": 14,
   "id": "1c4e9515",
   "metadata": {
    "scrolled": true
   },
   "outputs": [
    {
     "name": "stdout",
     "output_type": "stream",
     "text": [
      "fvGP is killing asynchronous training....\n",
      "HGDL kill client initialized ...\n",
      "HGDL kill client successful\n",
      "fvGP successfully killed the training.\n"
     ]
    }
   ],
   "source": [
    "obj.kill_training(async_obj)"
   ]
  },
  {
   "cell_type": "markdown",
   "id": "fbcd118c",
   "metadata": {},
   "source": [
    "## Looking the posterior mean at the test points"
   ]
  },
  {
   "cell_type": "code",
   "execution_count": 15,
   "id": "adf1a0ee",
   "metadata": {},
   "outputs": [],
   "source": [
    "post_mean= obj.posterior_mean(x_input_test.reshape(-1,1))"
   ]
  },
  {
   "cell_type": "code",
   "execution_count": 16,
   "id": "f2f189de",
   "metadata": {
    "scrolled": false
   },
   "outputs": [
    {
     "data": {
      "text/plain": [
       "<matplotlib.legend.Legend at 0x7f6db454f820>"
      ]
     },
     "execution_count": 16,
     "metadata": {},
     "output_type": "execute_result"
    },
    {
     "data": {
      "image/png": "[encoded data removed]",
      "text/plain": [
       "<Figure size 432x288 with 1 Axes>"
      ]
     },
     "metadata": {
      "needs_background": "light"
     },
     "output_type": "display_data"
    }
   ],
   "source": [
    "plt.plot(x_input_test, post_mean['f(x)'], label='interpolation')\n",
    "plt.plot(x_input_test, test_data_function(x_input_test), label='ground truth')\n",
    "plt.legend()"
   ]
  },
  {
   "cell_type": "markdown",
   "id": "63b733a8",
   "metadata": {},
   "source": [
    "# Custom Kernels"
   ]
  },
  {
   "cell_type": "code",
   "execution_count": 17,
   "id": "964e807d",
   "metadata": {},
   "outputs": [],
   "source": [
    "def kernel_l1(x1,x2, hp, obj):\n",
    "    ################################################################\n",
    "    ###standard anisotropic kernel in an input space with l1########\n",
    "    ################################################################\n",
    "    d1 = abs(np.subtract.outer(x1[:,0],x2[:,0])) \n",
    "    return hp[0] * np.exp(-d1/hp[1])"
   ]
  },
  {
   "cell_type": "code",
   "execution_count": 18,
   "id": "f1a4e170",
   "metadata": {},
   "outputs": [],
   "source": [
    "obj = gp.GP(input_space_dim = 1, points = x_input.reshape(-1,1),\n",
    "                            values = y_output.reshape(-1,1),\n",
    "                           init_hyperparameters = np.array([10,10]),\n",
    "                            variances = np.zeros(y_output.reshape(-1,1).shape),\n",
    "                            gp_kernel_function = kernel_l1)"
   ]
  },
  {
   "cell_type": "markdown",
   "id": "55883df2",
   "metadata": {},
   "source": [
    "## Training our gaussian process regression on given data\n"
   ]
  },
  {
   "cell_type": "code",
   "execution_count": 19,
   "id": "4a8245ec",
   "metadata": {
    "scrolled": false
   },
   "outputs": [
    {
     "name": "stdout",
     "output_type": "stream",
     "text": [
      "fvGP training started with  20  data points\n",
      "fvGP hyperparameter tuning in progress. Old hyperparameters:  [10 10]  with old log likelihood:  30.952325741923985\n",
      "method:  global\n",
      "fvGP is performing a global differential evolution algorithm to find the optimal hyperparameters.\n",
      "maximum number of iterations:  120\n",
      "termination tolerance:  0.0001\n",
      "bounds:  [[1.e-04 1.e+03]\n",
      " [1.e-04 1.e+03]]\n",
      "differential_evolution step 1: f(x)= 1.93549\n",
      "differential_evolution step 2: f(x)= 1.93549\n",
      "differential_evolution step 3: f(x)= 0.809298\n",
      "differential_evolution step 4: f(x)= -3.14085\n",
      "differential_evolution step 5: f(x)= -3.14085\n",
      "differential_evolution step 6: f(x)= -3.14085\n",
      "differential_evolution step 7: f(x)= -3.18216\n",
      "differential_evolution step 8: f(x)= -3.18216\n",
      "differential_evolution step 9: f(x)= -3.59903\n",
      "differential_evolution step 10: f(x)= -3.59903\n",
      "differential_evolution step 11: f(x)= -3.70524\n",
      "differential_evolution step 12: f(x)= -3.70524\n",
      "differential_evolution step 13: f(x)= -3.73054\n",
      "differential_evolution step 14: f(x)= -3.80935\n",
      "differential_evolution step 15: f(x)= -3.80935\n",
      "differential_evolution step 16: f(x)= -3.89841\n",
      "differential_evolution step 17: f(x)= -3.89841\n",
      "differential_evolution step 18: f(x)= -3.89841\n",
      "differential_evolution step 19: f(x)= -3.91958\n",
      "differential_evolution step 20: f(x)= -3.91958\n",
      "differential_evolution step 21: f(x)= -3.91958\n",
      "differential_evolution step 22: f(x)= -3.91958\n",
      "differential_evolution step 23: f(x)= -3.92298\n",
      "differential_evolution step 24: f(x)= -3.92298\n",
      "differential_evolution step 25: f(x)= -3.92298\n",
      "differential_evolution step 26: f(x)= -3.92298\n",
      "differential_evolution step 27: f(x)= -3.92313\n",
      "differential_evolution step 28: f(x)= -3.92322\n",
      "differential_evolution step 29: f(x)= -3.92339\n",
      "differential_evolution step 30: f(x)= -3.92339\n",
      "differential_evolution step 31: f(x)= -3.92341\n",
      "differential_evolution step 32: f(x)= -3.92341\n",
      "differential_evolution step 33: f(x)= -3.92344\n",
      "differential_evolution step 34: f(x)= -3.92345\n",
      "fvGP found hyperparameters  [ 0.70506692 80.32842521]  with likelihood  -3.9234462404892483  via global optimization\n"
     ]
    }
   ],
   "source": [
    "hyper_param_bounds = np.array([[0.0001, 1000],[ 0.0001, 1000]])\n",
    "obj.train(hyper_param_bounds)"
   ]
  },
  {
   "cell_type": "markdown",
   "id": "819d849b",
   "metadata": {},
   "source": [
    "## Looking the posterior mean at the test points"
   ]
  },
  {
   "cell_type": "code",
   "execution_count": 20,
   "id": "97fb7cd4",
   "metadata": {},
   "outputs": [],
   "source": [
    "post_mean= obj.posterior_mean(x_input_test.reshape(-1,1))"
   ]
  },
  {
   "cell_type": "code",
   "execution_count": 21,
   "id": "fb8dc6d4",
   "metadata": {
    "scrolled": false
   },
   "outputs": [
    {
     "data": {
      "text/plain": [
       "<matplotlib.legend.Legend at 0x7f6db43b8c10>"
      ]
     },
     "execution_count": 21,
     "metadata": {},
     "output_type": "execute_result"
    },
    {
     "data": {
      "image/png": "[encoded data removed]",
      "text/plain": [
       "<Figure size 432x288 with 1 Axes>"
      ]
     },
     "metadata": {
      "needs_background": "light"
     },
     "output_type": "display_data"
    }
   ],
   "source": [
    "plt.plot(x_input_test, post_mean['f(x)'], label='interpolation')\n",
    "plt.plot(x_input_test, test_data_function(x_input_test), label='ground truth')\n",
    "plt.legend()"
   ]
  },
  {
   "cell_type": "markdown",
   "id": "34362d8c",
   "metadata": {},
   "source": [
    "# Prior Mean Functions\n",
    "### NOTE: The prior mean function must return a 1d vector, e.g., (100,)"
   ]
  },
  {
   "cell_type": "code",
   "execution_count": 22,
   "id": "01e15dcf",
   "metadata": {},
   "outputs": [],
   "source": [
    "def example_mean(gp_obj,x,hyperparameters):\n",
    "    return np.ones(len(x))"
   ]
  },
  {
   "cell_type": "code",
   "execution_count": 23,
   "id": "50c20e11",
   "metadata": {},
   "outputs": [],
   "source": [
    "obj = gp.GP(input_space_dim = 1, points = x_input.reshape(-1,1),\n",
    "                            values = y_output.reshape(-1,1),\n",
    "                           init_hyperparameters = np.array([10,10]),\n",
    "                            variances = np.zeros(y_output.reshape(-1,1).shape),\n",
    "                            gp_mean_function = example_mean)"
   ]
  },
  {
   "cell_type": "markdown",
   "id": "ec955466",
   "metadata": {},
   "source": [
    "## Training our gaussian process regression on given data\n"
   ]
  },
  {
   "cell_type": "code",
   "execution_count": 24,
   "id": "588ecd79",
   "metadata": {
    "scrolled": false
   },
   "outputs": [
    {
     "name": "stdout",
     "output_type": "stream",
     "text": [
      "fvGP training started with  20  data points\n",
      "fvGP hyperparameter tuning in progress. Old hyperparameters:  [10 10]  with old log likelihood:  30.94409135792279\n",
      "method:  global\n",
      "fvGP is performing a global differential evolution algorithm to find the optimal hyperparameters.\n",
      "maximum number of iterations:  120\n",
      "termination tolerance:  0.0001\n",
      "bounds:  [[1.e-04 1.e+03]\n",
      " [1.e-04 1.e+03]]\n",
      "differential_evolution step 1: f(x)= -1.80091\n",
      "differential_evolution step 2: f(x)= -1.80091\n",
      "differential_evolution step 3: f(x)= -3.18752\n",
      "differential_evolution step 4: f(x)= -3.18752\n",
      "differential_evolution step 5: f(x)= -3.18941\n",
      "differential_evolution step 6: f(x)= -3.18941\n",
      "differential_evolution step 7: f(x)= -3.36334\n",
      "differential_evolution step 8: f(x)= -3.66515\n",
      "differential_evolution step 9: f(x)= -3.78056\n",
      "differential_evolution step 10: f(x)= -3.81713\n",
      "differential_evolution step 11: f(x)= -3.81713\n",
      "differential_evolution step 12: f(x)= -3.86312\n",
      "differential_evolution step 13: f(x)= -3.94452\n",
      "differential_evolution step 14: f(x)= -3.96616\n",
      "differential_evolution step 15: f(x)= -3.96616\n",
      "differential_evolution step 16: f(x)= -3.98183\n",
      "differential_evolution step 17: f(x)= -4.02696\n",
      "differential_evolution step 18: f(x)= -4.02897\n",
      "differential_evolution step 19: f(x)= -4.07923\n",
      "differential_evolution step 20: f(x)= -4.09005\n",
      "differential_evolution step 21: f(x)= -4.09005\n",
      "differential_evolution step 22: f(x)= -4.09005\n",
      "differential_evolution step 23: f(x)= -4.09005\n",
      "differential_evolution step 24: f(x)= -4.09005\n",
      "differential_evolution step 25: f(x)= -4.0919\n",
      "differential_evolution step 26: f(x)= -4.0919\n",
      "differential_evolution step 27: f(x)= -4.0919\n",
      "differential_evolution step 28: f(x)= -4.09207\n",
      "differential_evolution step 29: f(x)= -4.09209\n",
      "differential_evolution step 30: f(x)= -4.09209\n",
      "differential_evolution step 31: f(x)= -4.09209\n",
      "differential_evolution step 32: f(x)= -4.09209\n",
      "fvGP found hyperparameters  [ 0.54032882 61.32412848]  with likelihood  -4.092094516919943  via global optimization\n"
     ]
    }
   ],
   "source": [
    "hyper_param_bounds = np.array([[0.0001, 1000],[ 0.0001, 1000]])\n",
    "obj.train(hyper_param_bounds)"
   ]
  },
  {
   "cell_type": "markdown",
   "id": "0bbdc82a",
   "metadata": {},
   "source": [
    "## Looking the posterior mean at the test points"
   ]
  },
  {
   "cell_type": "code",
   "execution_count": 25,
   "id": "336f1955",
   "metadata": {},
   "outputs": [],
   "source": [
    "post_mean= obj.posterior_mean(x_input_test.reshape(-1,1))"
   ]
  },
  {
   "cell_type": "code",
   "execution_count": 26,
   "id": "18244e9b",
   "metadata": {
    "scrolled": false
   },
   "outputs": [
    {
     "data": {
      "text/plain": [
       "<matplotlib.legend.Legend at 0x7f6db4382dc0>"
      ]
     },
     "execution_count": 26,
     "metadata": {},
     "output_type": "execute_result"
    },
    {
     "data": {
      "image/png": "[encoded data removed]",
      "text/plain": [
       "<Figure size 432x288 with 1 Axes>"
      ]
     },
     "metadata": {
      "needs_background": "light"
     },
     "output_type": "display_data"
    }
   ],
   "source": [
    "plt.plot(x_input_test, post_mean['f(x)'], label='interpolation')\n",
    "plt.plot(x_input_test, test_data_function(x_input_test), label='ground truth')\n",
    "plt.scatter(x_input_test,post_mean['f(x)'])\n",
    "plt.legend()"
   ]
  },
  {
   "cell_type": "code",
   "execution_count": null,
   "id": "67ad5d1e",
   "metadata": {},
   "outputs": [],
   "source": []
  }
 ],
 "metadata": {
  "kernelspec": {
   "display_name": "fvgp",
   "language": "python",
   "name": "fvgp"
  },
  "language_info": {
   "codemirror_mode": {
    "name": "ipython",
    "version": 3
   },
   "file_extension": ".py",
   "mimetype": "text/x-python",
   "name": "python",
   "nbconvert_exporter": "python",
   "pygments_lexer": "ipython3",
   "version": "3.8.10"
  }
 },
 "nbformat": 4,
 "nbformat_minor": 5
}
