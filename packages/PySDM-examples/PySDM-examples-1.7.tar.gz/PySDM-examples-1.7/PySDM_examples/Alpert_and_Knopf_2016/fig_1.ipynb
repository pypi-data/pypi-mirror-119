{
 "cells": [
  {
   "cell_type": "markdown",
   "metadata": {},
   "source": [
    "[![Binder](https://mybinder.org/badge_logo.svg)](https://mybinder.org/v2/gh/atmos-cloud-sim-uj/PySDM-examples.git/main?urlpath=lab/tree/PySDM_examples/Alpert_and_Knopf_2016/fig_1.ipynb)\n",
    "[![Open In Colab](https://colab.research.google.com/assets/colab-badge.svg)](https://colab.research.google.com/github/atmos-cloud-sim-uj/PySDM-examples/blob/main/PySDM_examples/Alpert_and_Knopf_2016/fig_1.ipynb)"
   ]
  },
  {
   "cell_type": "markdown",
   "metadata": {},
   "source": [
    "#### based on Fig. 1 from Alpert and Knopf 2016 (Atmos. Chem. Phys. 16) \"_Analysis of isothermal and cooling-rate-dependent immersion freezing by a unifying stochastic ice nucleation model_\"\n",
    "https://doi.org/10.5194/acp-16-2083-2016"
   ]
  },
  {
   "cell_type": "code",
   "execution_count": 1,
   "metadata": {
    "pycharm": {
     "name": "#%%\n"
    }
   },
   "outputs": [],
   "source": [
    "import sys\n",
    "if 'google.colab' in sys.modules:\n",
    "    !pip --quiet --use-deprecated=legacy-resolver install \\\n",
    "            PySDM-examples \\\n",
    "            notebook==`python -c \"import notebook; print(notebook.__version__)\"` \\\n",
    "            tornado==`python -c \"import tornado; print(tornado.version)\"`\n",
    "    !ldconfig"
   ]
  },
  {
   "cell_type": "code",
   "execution_count": 5,
   "metadata": {
    "pycharm": {
     "name": "#%%\n"
    }
   },
   "outputs": [],
   "source": [
    "from PySDM_examples.utils.show_plot import show_plot\n",
    "from PySDM.backends import CPU\n",
    "from PySDM import Builder\n",
    "from PySDM.environments import Box\n",
    "from PySDM.dynamics import Freezing\n",
    "from PySDM.physics import si, constants as const, Formulae\n",
    "from PySDM.initialisation.multiplicities import discretise_n\n",
    "from PySDM.initialisation import spectral_sampling\n",
    "from PySDM.physics.spectra import Lognormal\n",
    "from PySDM.products import IceWaterContent\n",
    "import numpy as np\n",
    "from matplotlib import pylab"
   ]
  },
  {
   "cell_type": "code",
   "execution_count": 16,
   "metadata": {
    "pycharm": {
     "name": "#%%"
    }
   },
   "outputs": [],
   "source": [
    "J_het = 1e3 / si.cm**2 / si.s\n",
    "A_g = 1e-5 * si.cm**2\n",
    "\n",
    "multiplicity = 1\n",
    "dt = 1 * si.s\n",
    "total_time = 6 * si.min\n",
    "n_runs_per_case = 10\n",
    "\n",
    "# dummy multipliers (multiplied and then divided by)\n",
    "dv = 1 * si.cm**3 # will become used if coalescence or other processes are turned on\n",
    "droplet_volume = 1 * si.um**3 # ditto\n",
    "\n",
    "cases = {\n",
    "    'Iso3': {'ISA': Lognormal(norm_factor=1000/dv, m_mode=A_g, s_geom=10), 'color':'#1A62B4'},\n",
    "    'Iso4': {'ISA': Lognormal(norm_factor=30/dv,   m_mode=A_g, s_geom=10), 'color':'#95BDE1'},\n",
    "    'Iso1': {'ISA': Lognormal(norm_factor=1000/dv, m_mode=A_g, s_geom=1),  'color':'#298131'},\n",
    "    'Iso2': {'ISA': Lognormal(norm_factor=30/dv,   m_mode=A_g, s_geom=1),  'color':'#9ACFA4'},\n",
    "}"
   ]
  },
  {
   "cell_type": "code",
   "execution_count": 17,
   "metadata": {},
   "outputs": [],
   "source": [
    "output = {}\n",
    "\n",
    "for key, case in cases.items():\n",
    "    output[key] = []\n",
    "    for _ in range(n_runs_per_case):\n",
    "        number_of_real_droplets = case['ISA'].norm_factor * dv\n",
    "        n_sd = number_of_real_droplets / multiplicity\n",
    "        assert int(n_sd) == n_sd\n",
    "        n_sd = int(n_sd)\n",
    "\n",
    "        formulae = Formulae(seed=_)        \n",
    "        builder = Builder(n_sd=n_sd, backend=CPU, formulae=formulae)\n",
    "        builder.set_environment(Box(dt=dt, dv=dv))\n",
    "        builder.add_dynamic(Freezing(singular=False, J_het=J_het))\n",
    "\n",
    "        if case['ISA'].s_geom != 1:\n",
    "            _isa, _conc = spectral_sampling.ConstantMultiplicity(case['ISA']).sample(n_sd)\n",
    "        else:\n",
    "            _isa, _conc = np.full(n_sd, A_g), np.full(n_sd, multiplicity / dv)\n",
    "        attributes = {\n",
    "            'n': discretise_n(_conc * dv),\n",
    "            'immersed surface area': _isa,\n",
    "            'volume': np.full(n_sd, droplet_volume)\n",
    "        }\n",
    "        np.testing.assert_almost_equal(attributes['n'], multiplicity)\n",
    "        products = (IceWaterContent(specific=False),)\n",
    "        particulator = builder.build(attributes=attributes, products=products)\n",
    "\n",
    "        cell_id = 0\n",
    "        data = []\n",
    "        for i in range(int(total_time / dt) + 1):\n",
    "            particulator.run(0 if i == 0 else 1)\n",
    "\n",
    "            ice_mass_per_volume = particulator.products['qi'].get()[cell_id]\n",
    "            ice_mass = ice_mass_per_volume * dv\n",
    "            ice_number = ice_mass / (const.rho_w * droplet_volume)\n",
    "            unfrozen_fraction = 1 - ice_number / number_of_real_droplets\n",
    "            data.append(unfrozen_fraction)\n",
    "\n",
    "        output[key].append(data)"
   ]
  },
  {
   "cell_type": "code",
   "execution_count": 20,
   "metadata": {},
   "outputs": [
    {
     "data": {
      "image/png": "[encoded data removed]",
      "text/plain": [
       "<Figure size 432x288 with 1 Axes>"
      ]
     },
     "metadata": {
      "needs_background": "light"
     },
     "output_type": "display_data"
    },
    {
     "data": {
      "application/vnd.jupyter.widget-view+json": {
       "model_id": "ab172108e84e4e0abf867d88b98ddf85",
       "version_major": 2,
       "version_minor": 0
      },
      "text/plain": [
       "HTML(value=\"<a href='./tmp55x8g76b.pdf' target='_blank'>./tmp55x8g76b.pdf</a><br>\")"
      ]
     },
     "metadata": {},
     "output_type": "display_data"
    }
   ],
   "source": [
    "pylab.rc('font', size=10)\n",
    "for key in output.keys():\n",
    "    for run in range(n_runs_per_case):\n",
    "        label = f\"σ=ln({int(cases[key]['ISA'].s_geom)}),N={int(cases[key]['ISA'].norm_factor*dv)}\"\n",
    "        pylab.step(\n",
    "            dt / si.min * np.arange(len(output[key][run])),\n",
    "            output[key][run],\n",
    "            label=label if run == 0 else None,\n",
    "            color=cases[key]['color'],\n",
    "            linewidth=.666\n",
    "        )\n",
    "\n",
    "pylab.legend()\n",
    "pylab.yscale('log')\n",
    "pylab.ylim(1e-2, 1)\n",
    "pylab.xlim(0, total_time / si.min)\n",
    "pylab.xlabel(\"t / min\")\n",
    "pylab.ylabel(\"$f_{ufz}$\")\n",
    "pylab.gca().set_aspect(3)\n",
    "show_plot()"
   ]
  },
  {
   "cell_type": "code",
   "execution_count": null,
   "metadata": {},
   "outputs": [],
   "source": []
  }
 ],
 "metadata": {
  "kernelspec": {
   "display_name": "Python 3 (ipykernel)",
   "language": "python",
   "name": "python3"
  },
  "language_info": {
   "codemirror_mode": {
    "name": "ipython",
    "version": 3
   },
   "file_extension": ".py",
   "mimetype": "text/x-python",
   "name": "python",
   "nbconvert_exporter": "python",
   "pygments_lexer": "ipython3",
   "version": "3.8.2"
  }
 },
 "nbformat": 4,
 "nbformat_minor": 1
}
