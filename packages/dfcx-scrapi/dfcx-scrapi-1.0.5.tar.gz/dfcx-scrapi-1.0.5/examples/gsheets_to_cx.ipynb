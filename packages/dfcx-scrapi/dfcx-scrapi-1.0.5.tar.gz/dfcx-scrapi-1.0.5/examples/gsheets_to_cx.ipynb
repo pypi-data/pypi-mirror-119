{
 "metadata": {
  "language_info": {
   "codemirror_mode": {
    "name": "ipython",
    "version": 3
   },
   "file_extension": ".py",
   "mimetype": "text/x-python",
   "name": "python",
   "nbconvert_exporter": "python",
   "pygments_lexer": "ipython3",
   "version": "3.8.8"
  },
  "orig_nbformat": 2,
  "kernelspec": {
   "name": "python3",
   "display_name": "Python 3.8.8 64-bit ('py38': conda)"
  },
  "metadata": {
   "interpreter": {
    "hash": "547aa68a3b05ceb5ef445141f7d93a53d8c7bfd6e879bc63089b49209d101e50"
   }
  },
  "interpreter": {
   "hash": "233e585a6afc7b753341bc091d54f04cf3464a1856207b79e3197e1dbeaef1c5"
  }
 },
 "nbformat": 4,
 "nbformat_minor": 2,
 "cells": [
  {
   "cell_type": "code",
   "execution_count": null,
   "source": [
    "# Copyright 2021 Google LLC\n",
    "#\n",
    "# Licensed under the Apache License, Version 2.0 (the \"License\");\n",
    "# you may not use this file except in compliance with the License.\n",
    "# You may obtain a copy of the License at\n",
    "#\n",
    "#     https://www.apache.org/licenses/LICENSE-2.0\n",
    "#\n",
    "# Unless required by applicable law or agreed to in writing, software\n",
    "# distributed under the License is distributed on an \"AS IS\" BASIS,\n",
    "# WITHOUT WARRANTIES OR CONDITIONS OF ANY KIND, either express or implied.\n",
    "# See the License for the specific language governing permissions and\n",
    "# limitations under the License.\n",
    "\n",
    "from dfcx_scrapi.core.intents import Intents\n",
    "from dfcx_scrapi.tools.dataframe_functions import DataframeFunctions\n",
    "\n",
    "creds_path = '<YOUR_CREDS_PATH_HERE>'\n",
    "dev_agent = '<YOUR_AGENT_ID_HERE>'"
   ],
   "outputs": [],
   "metadata": {}
  },
  {
   "cell_type": "code",
   "execution_count": null,
   "source": [
    "# Instanstiate Classes\n",
    "intents = Intents(creds_path)\n",
    "cxtools = DataframeFunctions(creds_path)"
   ],
   "outputs": [],
   "metadata": {}
  },
  {
   "cell_type": "markdown",
   "source": [
    "# Sheets to CX"
   ],
   "metadata": {}
  },
  {
   "cell_type": "code",
   "execution_count": null,
   "source": [
    "df = cxtools.sheets_to_dataframe('<YOUR_SHEET_NAME_HERE>','<YOUR_SHEET_TAB_NAME_HERE>')"
   ],
   "outputs": [],
   "metadata": {}
  },
  {
   "cell_type": "code",
   "execution_count": null,
   "source": [
    "df"
   ],
   "outputs": [],
   "metadata": {}
  },
  {
   "cell_type": "code",
   "execution_count": null,
   "source": [
    "cxtools.bulk_create_intent_from_dataframe(dev_agent, df, update_flag=True, rate_limiter=1)"
   ],
   "outputs": [],
   "metadata": {}
  },
  {
   "cell_type": "markdown",
   "source": [
    "# CX to Sheets"
   ],
   "metadata": {}
  },
  {
   "cell_type": "code",
   "execution_count": null,
   "source": [
    "# Get all of the intents from the Agent\n",
    "dev_intents = intents.list_intents(dev_agent)\n",
    "\n",
    "print('Variable is of type \\'{}\\''.format(type(dev_intents)))\n",
    "print('Total # of Intents = {}'.format(len(dev_intents)), '\\n')"
   ],
   "outputs": [],
   "metadata": {}
  },
  {
   "cell_type": "code",
   "execution_count": null,
   "source": [
    "# Transform all of the intents into a Dataframe\n",
    "df_voice = intents.bulk_intent_to_df(dev_agent)\n",
    "\n",
    "print('Variable is of type \\'{}\\''.format(type(df_voice)))\n",
    "print('Total # of Intents = {}'.format(df_voice.intent.nunique()), '\\n')"
   ],
   "outputs": [],
   "metadata": {}
  },
  {
   "cell_type": "code",
   "execution_count": null,
   "source": [
    "# Explore the Intents/Training Phrases in your Dataframe\n",
    "df_voice[df_voice.intent == '<YOUR_INTENT_DISPLAY_NAME_HERE>']"
   ],
   "outputs": [],
   "metadata": {}
  },
  {
   "cell_type": "code",
   "execution_count": null,
   "source": [
    "cxtools.dataframe_to_sheets('<YOUR_SHEET_NAME_HERE>','<YOUR_SHEET_TAB_NAME_HERE>', df_voice)"
   ],
   "outputs": [],
   "metadata": {}
  },
  {
   "cell_type": "code",
   "execution_count": null,
   "source": [
    "final_df = cxtools.sheets_to_dataframe('<YOUR_SHEET_NAME_HERE>','<YOUR_SHEET_TAB_NAME_HERE>')"
   ],
   "outputs": [],
   "metadata": {}
  },
  {
   "cell_type": "code",
   "execution_count": null,
   "source": [
    "cxtools.bulk_create_intent_from_dataframe(dev_agent, final_df, update_flag=True, rate_limiter=1)"
   ],
   "outputs": [],
   "metadata": {}
  },
  {
   "cell_type": "markdown",
   "source": [
    "# CX to Sheets - Filterd by Intents in Scope of a Flow"
   ],
   "metadata": {}
  },
  {
   "cell_type": "code",
   "execution_count": null,
   "source": [
    "from dfcx_scrapi.tools.copy_util import CopyUtil\n",
    "from dfcx_scrapi.tools.dataframe_functions import DataframeFunctions\n",
    "import pandas as pd\n",
    "\n",
    "dev_creds_path = '<YOUR_CREDS_PATH_HERE>'\n",
    "voice_agent = '<YOUR_AGENT_ID_HERE>'\n",
    "\n",
    "cu = CopyUtil(creds_path=dev_creds_path, agent_id=voice_agent)\n",
    "cxtools = DataframeFunctions(dev_creds_path)\n",
    "\n",
    "flow = '<YOUR_FLOW_DISPLAY_NAME>'\n",
    "\n",
    "flow_map = cu.flows.get_flows_map(reverse=True)\n",
    "pages = cu.pages.list_pages(flow_map[flow])\n",
    "resources = cu.get_page_dependencies(pages)\n",
    "\n",
    "for key in resources.keys():\n",
    "    if key == 'intents':\n",
    "        intent_list = list(resources[key])\n",
    "        \n",
    "all_intents = cu.intents.list_intents()\n",
    "\n",
    "final_intents = []\n",
    "for intent in all_intents:\n",
    "    if intent.name in intent_list:\n",
    "        final_intents.append(intent)\n",
    "\n",
    "df = pd.DataFrame()\n",
    "\n",
    "for intent in final_intents:\n",
    "    df = df.append(cu.intents.intent_proto_to_dataframe(intent))\n",
    "\n",
    "# Create the GSheet\n",
    "cxtools.dataframe_to_sheets('<YOUR_SHEET_NAME_HERE>', '<YOUR_SHEET_TAB_NAME_HERE>', df)"
   ],
   "outputs": [],
   "metadata": {}
  }
 ]
}