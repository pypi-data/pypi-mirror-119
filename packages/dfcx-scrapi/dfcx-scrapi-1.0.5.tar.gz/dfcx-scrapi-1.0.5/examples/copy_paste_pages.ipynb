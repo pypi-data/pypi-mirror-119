{
 "cells": [
  {
   "cell_type": "markdown",
   "source": [
    "# Introduction and Purpose\n",
    "The primary purpose of this notebook and set of methods/functions is to allow the DFCX script writer to copy/paste pages from one Flow to another Flow.  \n",
    "In this notebook, we will demonstrate how to do this within the SAME agent, however these same methods/functions can be utilized to move pages BETWEEN agents!"
   ],
   "metadata": {}
  },
  {
   "cell_type": "markdown",
   "source": [
    "## Imports\n",
    "We're using the Legacy DFCX and DFFX libraries for this notebook.\n",
    "Note that this scripting library is currently under a full refactor, so some of this code will slightly change in the future"
   ],
   "metadata": {}
  },
  {
   "cell_type": "code",
   "execution_count": null,
   "source": [
    "# Copyright 2021 Google LLC\n",
    "#\n",
    "# Licensed under the Apache License, Version 2.0 (the \"License\");\n",
    "# you may not use this file except in compliance with the License.\n",
    "# You may obtain a copy of the License at\n",
    "#\n",
    "#     https://www.apache.org/licenses/LICENSE-2.0\n",
    "#\n",
    "# Unless required by applicable law or agreed to in writing, software\n",
    "# distributed under the License is distributed on an \"AS IS\" BASIS,\n",
    "# WITHOUT WARRANTIES OR CONDITIONS OF ANY KIND, either express or implied.\n",
    "# See the License for the specific language governing permissions and\n",
    "# limitations under the License.\n",
    "\n",
    "from dfcx_scrapi.tools.copy_util import CopyUtil"
   ],
   "outputs": [],
   "metadata": {}
  },
  {
   "cell_type": "code",
   "execution_count": null,
   "source": [
    "# Define your Service Account credentials file here, as well as the Agent ID you will be working on\n",
    "\n",
    "creds = '<YOUR_CREDS_FILE>'\n",
    "agent_id = '<YOUR_AGENT_ID>'"
   ],
   "outputs": [],
   "metadata": {}
  },
  {
   "cell_type": "code",
   "execution_count": null,
   "source": [
    "# Instantiate your DFCX and DFFX Objects\n",
    "cu = CopyUtil(creds)"
   ],
   "outputs": [],
   "metadata": {}
  },
  {
   "cell_type": "markdown",
   "source": [
    "## Get Flows Map from Agent in Reverse so we can reference by Flow Display Name\n",
    "The DFFX Class has a set of `map` functions that are handy for manipulating CX Resources when you only need the UUID and Display Name, but not the entire object.\n",
    "Here, we need to reference our Flows by Display Name, so we can use the `get_flows_map` method, and set the `reverse` flag to `True` giving us the Display Names as the keys and the UUIDs as the values."
   ],
   "metadata": {}
  },
  {
   "cell_type": "code",
   "execution_count": null,
   "source": [
    "mfchat_flows_map = cu.flows.get_flows_map(agent_id, reverse=True)\n",
    "mfchat_flows_map"
   ],
   "outputs": [],
   "metadata": {}
  },
  {
   "cell_type": "markdown",
   "source": [
    "## Get All Pages from Source Flow\n",
    "Once we have our Flows map, we can reference it in our call to extract the full list of pages from the source Flow in question.\n",
    "In our case, we want to extract pages from a Flow named `AMNT15`.  \n",
    "We will call the `list_pages` method from the DFCX Class and pass in the appropriate dict reference."
   ],
   "metadata": {}
  },
  {
   "cell_type": "code",
   "execution_count": null,
   "source": [
    "amnt15_pages = cu.pages.list_pages(mfchat_flows_map['AMNT15'])\n",
    "print('AMNT15 Page Count = {}'.format(len(amnt15_pages)))"
   ],
   "outputs": [],
   "metadata": {}
  },
  {
   "cell_type": "markdown",
   "source": [
    "## Extract Subset of Pages that we want to copy\n",
    "Now that we have our List of Page objects, we need to extract the subset of pages that we plan on copying over.\n",
    "Usually you will do this using some regex matcher or pattern to select your pages.  \n",
    "The easiest way to do this is to ensure the the Page designer has prepended the `page.display_name` with a specific label.\n",
    "The more unique the matching pattern, the better!\n",
    "\n",
    "Ex:\n",
    "- TYS - Page 1\n",
    "- TYS - Page 2\n",
    "- TYS - Page N"
   ],
   "metadata": {}
  },
  {
   "cell_type": "code",
   "execution_count": null,
   "source": [
    "subset_pages = [] # define a list placeholder for your Page proto objects\n",
    "for page in amnt15_pages:\n",
    "    if 'TYS -' in page.display_name:\n",
    "        subset_pages.append(page)\n",
    "\n",
    "print('Total Pages to Copy = {}'.format(len(subset_pages)))"
   ],
   "outputs": [],
   "metadata": {}
  },
  {
   "cell_type": "markdown",
   "source": [
    "## Create Page Shells in Destination Flow\n",
    "Using the `subset_pages` that we just collected, iter through them and create a \"shell\" page in the destination flow.  \n",
    "This allows CX to assign a new UUID for the destination page which we will use to replace all references in the existing `subset_pages`\n",
    "\n",
    "Remember to pass in the `Destination Flow ID` using the reverse flows map from above.\n",
    "\n",
    "**NOTE** - If you have a lot of pages, consider a `time.sleep(.5)` in your loop so as to not overrun your API limits!"
   ],
   "metadata": {}
  },
  {
   "cell_type": "code",
   "execution_count": null,
   "source": [
    "for page in subset_pages:\n",
    "    p.create_page(mfchat_flows_map['TYS'], display_name=page.display_name) # remember to add kwarg for display_name"
   ],
   "outputs": [],
   "metadata": {}
  },
  {
   "cell_type": "markdown",
   "source": [
    "## Prep Source Page Objects\n",
    "In a previous step, we collected the `subset_pages` list of Page objects.  \n",
    "Now we will use a ~!* MAGIC *!~ `CopyUtil` method called `convert_from_source_page_dependencies`\n",
    "\n",
    "For `source` mode, you simply pass in the following:\n",
    "- Agent ID String\n",
    "- Original List of Page Objects (in our case, the `subset_pages` list) \n",
    "- STRING DISPLAY NAME of the Source Flow\n",
    "\n",
    "The `source` mode changes all of the UUIDs in the Page object to be PLAIN TEXT STRING DISPLAY NAMES using the internal map functions.  \n",
    "You will want to collect your new MODIFIED page objects in a new variable, in our case here we call it `subset_pages_prepped`\n",
    "\n",
    "For `destination` mode, you simply pass in the following:\n",
    "- Agent ID String\n",
    "- MODIFIED page objects that you received as output from the `source` mode pass of this same function\n",
    "- STRING DISPLAY NAME of the Destination Flow\n",
    "\n",
    "The `destination` mode will perform a reverse dictionary lookup on all of the previously modified resources using the internal map functions.\n",
    "You will want to collect your new MODIFIED FINAL page objects in a new variable, in our case here we call it `final_pages`"
   ],
   "metadata": {}
  },
  {
   "cell_type": "code",
   "execution_count": null,
   "source": [
    "subset_pages_prepped = cu.convert_from_source_page_dependencies(mfchat, subset_pages, 'AMNT15')"
   ],
   "outputs": [],
   "metadata": {}
  },
  {
   "cell_type": "code",
   "execution_count": null,
   "source": [
    "final_pages = cu.convert_to_destination_page_dependencies(mfchat, subset_pages_prepped, 'TYS')"
   ],
   "outputs": [],
   "metadata": {}
  },
  {
   "cell_type": "markdown",
   "source": [
    "## Update Pages in Destination Flow\n",
    "Loop through your `final_pages` list and call the `update_page` function"
   ],
   "metadata": {}
  },
  {
   "cell_type": "code",
   "execution_count": null,
   "source": [
    "for page in final_pages:\n",
    "    cu.pages.update_page(page.name, page)\n",
    "    print('Updated Page: {}'.format(page.display_name))"
   ],
   "outputs": [],
   "metadata": {}
  },
  {
   "cell_type": "markdown",
   "source": [
    "# Final Thoughts\n",
    "All of the above could be improved by combining all of the functions into a single functions.\n",
    "However, due to the shifting nature of bot building, I left the methods/functions separate to allow the script writer to make modifications or do sanity checks as they go along.\n",
    "\n",
    "As noted at the start, this script could also be used to copy pages BETWEEN agents, and that is what it was originally written to do."
   ],
   "metadata": {}
  },
  {
   "cell_type": "code",
   "execution_count": null,
   "source": [],
   "outputs": [],
   "metadata": {}
  }
 ],
 "metadata": {
  "environment": {
   "name": "common-cpu.mnightly-2021-01-20-debian-10-test",
   "type": "gcloud",
   "uri": "gcr.io/deeplearning-platform-release/base-cpu:mnightly-2021-01-20-debian-10-test"
  },
  "file_extension": ".py",
  "kernelspec": {
   "display_name": "Python 3",
   "language": "python",
   "name": "python3"
  },
  "language_info": {
   "codemirror_mode": {
    "name": "ipython",
    "version": 3
   },
   "file_extension": ".py",
   "mimetype": "text/x-python",
   "name": "python",
   "nbconvert_exporter": "python",
   "pygments_lexer": "ipython3",
   "version": "3.7.9"
  },
  "mimetype": "text/x-python",
  "name": "python",
  "npconvert_exporter": "python",
  "pygments_lexer": "ipython3",
  "version": 3
 },
 "nbformat": 4,
 "nbformat_minor": 4
}