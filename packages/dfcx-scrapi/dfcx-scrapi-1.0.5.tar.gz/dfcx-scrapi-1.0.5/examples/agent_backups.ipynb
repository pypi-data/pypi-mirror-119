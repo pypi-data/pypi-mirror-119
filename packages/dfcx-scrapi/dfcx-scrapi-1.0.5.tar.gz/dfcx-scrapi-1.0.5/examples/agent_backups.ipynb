{
 "metadata": {
  "language_info": {
   "codemirror_mode": {
    "name": "ipython",
    "version": 3
   },
   "file_extension": ".py",
   "mimetype": "text/x-python",
   "name": "python",
   "nbconvert_exporter": "python",
   "pygments_lexer": "ipython3",
   "version": "3.8.8"
  },
  "orig_nbformat": 2,
  "kernelspec": {
   "name": "python3",
   "display_name": "Python 3.8.8 64-bit ('py38': conda)"
  },
  "interpreter": {
   "hash": "233e585a6afc7b753341bc091d54f04cf3464a1856207b79e3197e1dbeaef1c5"
  }
 },
 "nbformat": 4,
 "nbformat_minor": 2,
 "cells": [
  {
   "cell_type": "code",
   "execution_count": null,
   "source": [
    "# Copyright 2021 Google LLC\n",
    "#\n",
    "# Licensed under the Apache License, Version 2.0 (the \"License\");\n",
    "# you may not use this file except in compliance with the License.\n",
    "# You may obtain a copy of the License at\n",
    "#\n",
    "#     https://www.apache.org/licenses/LICENSE-2.0\n",
    "#\n",
    "# Unless required by applicable law or agreed to in writing, software\n",
    "# distributed under the License is distributed on an \"AS IS\" BASIS,\n",
    "# WITHOUT WARRANTIES OR CONDITIONS OF ANY KIND, either express or implied.\n",
    "# See the License for the specific language governing permissions and\n",
    "# limitations under the License."
   ],
   "outputs": [],
   "metadata": {}
  },
  {
   "cell_type": "code",
   "execution_count": null,
   "source": [
    "from dfcx_scrapi.soop.project import Project\n",
    "\n",
    "# Add the local path to your Google Service Account here\n",
    "creds_path = '<YOUR_CREDS_PATH>'\n",
    "\n",
    "p = Project(creds_path,project_id='<YOUR_GCP_PROJECT_ID>')\n",
    "gcs_bucket = '<YOUR_GCS_BUCKET>'"
   ],
   "outputs": [],
   "metadata": {}
  },
  {
   "cell_type": "code",
   "execution_count": null,
   "source": [
    "# List all Agents in the Project\n",
    "all_agents = p.list_agents()"
   ],
   "outputs": [],
   "metadata": {}
  },
  {
   "cell_type": "code",
   "execution_count": null,
   "source": [
    "# Backup all Agents in GCP Project to GCS Bucket\n",
    "# Store LRO results in a list to be iterated on after the run is complete to check for backup status\n",
    "lro_list = p.backup_all_agents(gcs_bucket)"
   ],
   "outputs": [],
   "metadata": {}
  },
  {
   "cell_type": "code",
   "execution_count": null,
   "source": [
    "# Example LRO Response\n",
    "\"\"\"\n",
    "{'name': 'projects/<project name>/locations/global/operations/<lro id>',\n",
    " 'metadata': {'@type': 'type.googleapis.com/google.protobuf.Struct'},\n",
    " 'done': True,\n",
    " 'response': {'@type': 'type.googleapis.com/google.cloud.dialogflow.cx.v3beta1.ExportAgentResponse',\n",
    "  'agentUri': 'gs://<bucket name>/<agent display name'}}\n",
    "\"\"\""
   ],
   "outputs": [],
   "metadata": {}
  }
 ]
}