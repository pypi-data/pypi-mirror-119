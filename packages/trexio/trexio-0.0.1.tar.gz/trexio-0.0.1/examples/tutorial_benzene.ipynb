{
 "cells": [
  {
   "cell_type": "markdown",
   "id": "aa7ca791",
   "metadata": {},
   "source": [
    "# TREXIO Tutorial"
   ]
  },
  {
   "cell_type": "markdown",
   "id": "a8c50d41",
   "metadata": {},
   "source": [
    "This interactive Tutorial covers some basic use cases of the TREXIO library based on the Python API. At this point, it is assumed that the TREXIO Python package has been sucessfully installed on the user machine or in the virtual environment. If this is not the case, feel free to follow the [installation guide](https://github.com/TREX-CoE/trexio/blob/master/python/README.md)."
   ]
  },
  {
   "cell_type": "markdown",
   "id": "09c79087",
   "metadata": {},
   "source": [
    "## Importing TREXIO"
   ]
  },
  {
   "cell_type": "markdown",
   "id": "b706d952",
   "metadata": {},
   "source": [
    "First of all, let's import the TREXIO package."
   ]
  },
  {
   "cell_type": "code",
   "execution_count": 7,
   "id": "fe435ede",
   "metadata": {
    "scrolled": true
   },
   "outputs": [],
   "source": [
    "try:\n",
    "    import trexio\n",
    "except ImportError:\n",
    "    raise Exception(\"Unable to import trexio. Please check that trexio is properly instaled.\")"
   ]
  },
  {
   "cell_type": "markdown",
   "id": "b56434c1",
   "metadata": {},
   "source": [
    "If no error occurs, then it means that the TREXIO package has been sucessfully imported. Within the current import, TREXIO attributes can be accessed using the corresponding `trexio.attribute` notation. If you prefer to bound a shorter name to the imported module (as commonly done by the NumPy users with `import numpy as np`), this is also possible. To do so, replace `import trexio` with `import trexio as tr` for example. To learn more about importing modules, see the corresponding page of the [Python documentation](https://docs.python.org/3/tutorial/modules.html#more-on-modules)."
   ]
  },
  {
   "cell_type": "markdown",
   "id": "57a7ecf5",
   "metadata": {},
   "source": [
    "## Creating a new TREXIO file"
   ]
  },
  {
   "cell_type": "markdown",
   "id": "fa2fe95d",
   "metadata": {},
   "source": [
    "TREXIO currently supports two back ends for file I/O:\n",
    "\n",
    "1. `TREXIO_HDF5`, which relies on extensive use of the [HDF5 library](https://portal.hdfgroup.org/display/HDF5/HDF5) and the associated binary file format. This back end is optimized for high performance but it requires HDF5 to be installed on the user machine.\n",
    "\n",
    "2. `TREXIO_TEXT`, which relies on basic I/O operations that are available in the standard C library. This back end is not optimized for performance but it is supposed to work \"out-of-the-box\" since there are no external dependencies.\n",
    "\n",
    "Armed with these new definitions, let's proceed with the tutorial. The first task is to create a TREXIO file called `benzene_demo.h5`. But first we have to remove the file if it exists in the current directory"
   ]
  },
  {
   "cell_type": "code",
   "execution_count": 8,
   "id": "c1d9b6c9",
   "metadata": {
    "scrolled": true
   },
   "outputs": [],
   "source": [
    "filename = 'benzene_demo.h5'\n",
    "\n",
    "import os\n",
    "try:\n",
    "    os.remove(filename)\n",
    "except:\n",
    "    print(f\"File {filename} does not exist.\")"
   ]
  },
  {
   "cell_type": "markdown",
   "id": "1e018e56",
   "metadata": {},
   "source": [
    "We are now ready to create a new TREXIO file:"
   ]
  },
  {
   "cell_type": "code",
   "execution_count": 9,
   "id": "a6e6a249",
   "metadata": {
    "scrolled": true
   },
   "outputs": [],
   "source": [
    "demo_file = trexio.File(filename, mode='w', back_end=trexio.TREXIO_HDF5)"
   ]
  },
  {
   "cell_type": "markdown",
   "id": "dd1510ff",
   "metadata": {},
   "source": [
    "This creates an instance of the `trexio.File` class, which we refer to as `demo_file` in this tutorial. You can check that the corresponding file called `benzene_demo.h5` exists in the root directory. It is now open for writing as indicated by the user-supplied argument `mode='w'`. The file has been initiated using `TREXIO_HDF5` back end and will be accessed accordingly from now on. The information about back end is stored internally by TREXIO, which means that there is no need to specify it every time the I/O operation is performed. If the file named `benzene_demo.h5` already exists, then it is re-opened for writing (and not truncated to prevent data loss)."
   ]
  },
  {
   "cell_type": "markdown",
   "id": "095ffba0",
   "metadata": {},
   "source": [
    "## Writing data in the TREXIO file"
   ]
  },
  {
   "cell_type": "markdown",
   "id": "817347f0",
   "metadata": {},
   "source": [
    "Prior to any work with TREXIO library, we highly recommend users to read about [TREXIO internal configuration](https://trex-coe.github.io/trexio/trex.html), which explains the structure of the wavefunction file. The reason is that TREXIO API has a naming convention, which is based on the groups and variables names that are pre-defined by the developers. In this Tutorial, we will only cover contents of the `nucleus` group. Note that custom groups and variables can be added to the TREXIO API."
   ]
  },
  {
   "cell_type": "markdown",
   "id": "19aabbab",
   "metadata": {},
   "source": [
    "In this Tutorial, we consider benzene molecule (C6H6) as an example. Since benzene has 12 atoms, let's specify it in the previously created `demo_file`. In order to do so, one has to call `trexio.write_nucleus_num` function, which accepts an instance of the `trexio.File` class as a first argument and an `int` value corresponding to the number of nuclei as a second argument."
   ]
  },
  {
   "cell_type": "code",
   "execution_count": 10,
   "id": "44a14190",
   "metadata": {
    "scrolled": true
   },
   "outputs": [],
   "source": [
    "nucleus_num = 12"
   ]
  },
  {
   "cell_type": "code",
   "execution_count": 11,
   "id": "b0f39f1b",
   "metadata": {
    "scrolled": true
   },
   "outputs": [],
   "source": [
    "trexio.write_nucleus_num(demo_file, nucleus_num)"
   ]
  },
  {
   "cell_type": "markdown",
   "id": "2b94fe42",
   "metadata": {},
   "source": [
    "In fact, all API functions that contain `write_` prefix can be used in a similar way. \n",
    "Variables that contain `_num` suffix are important part of the TREXIO file because some of them define dimensions of arrays. For example, `nucleus_num` variable corresponds to the number of atoms, which will be internally used to write/read the `nucleus_coord` array of nuclear coordinates. In order for TREXIO files to be self-consistent, overwriting num-suffixed variables is currently disabled."
   ]
  },
  {
   "cell_type": "markdown",
   "id": "f586e5eb",
   "metadata": {},
   "source": [
    "The number of atoms is not sufficient to define a molecule. Let's first create a list of nuclear charges, which correspond to benzene. "
   ]
  },
  {
   "cell_type": "code",
   "execution_count": 12,
   "id": "a7aedc84",
   "metadata": {
    "scrolled": true
   },
   "outputs": [],
   "source": [
    "charges = [6., 6., 6., 6., 6., 6., 1., 1., 1., 1., 1., 1.]"
   ]
  },
  {
   "cell_type": "markdown",
   "id": "c6803fbd",
   "metadata": {},
   "source": [
    "According to the TREX configuration file, there is a `charge` attribute of the `nucleus` group, which has `float` type and `[nucleus_num]` dimension. The `charges` list defined above fits nicely in the description and can be written as follows"
   ]
  },
  {
   "cell_type": "code",
   "execution_count": 13,
   "id": "ce917501",
   "metadata": {
    "scrolled": true
   },
   "outputs": [],
   "source": [
    "trexio.write_nucleus_charge(demo_file, charges)"
   ]
  },
  {
   "cell_type": "markdown",
   "id": "9dcb8a3c",
   "metadata": {},
   "source": [
    "**Note: TREXIO function names only contain parts in singular form.** This means that, both `write_nucleus_charges` and `write_nuclear_charges` are invalid API calls. These functions simply do not exist in the `trexio` Python package and the corresponding error message should appear."
   ]
  },
  {
   "cell_type": "markdown",
   "id": "39ea7454",
   "metadata": {},
   "source": [
    " Alternatively, one can provide a list of nuclear labels (chemical elements from the periodic table) that correspond to the aforementioned charges. There is a `label` attribute of the `nucleus` group, which has `str` type and `[nucleus_num]` dimension. Let's create a list of 12 strings, which correspond to 6 carbon and 6 hydrogen atoms:"
   ]
  },
  {
   "cell_type": "code",
   "execution_count": 14,
   "id": "30de17d6",
   "metadata": {
    "scrolled": true
   },
   "outputs": [],
   "source": [
    "labels = [\n",
    "    'C',\n",
    "    'C',\n",
    "    'C',\n",
    "    'C',\n",
    "    'C',\n",
    "    'C',\n",
    "    'H',\n",
    "    'H',\n",
    "    'H',\n",
    "    'H',\n",
    "    'H',\n",
    "    'H']"
   ]
  },
  {
   "cell_type": "markdown",
   "id": "eb7d9558",
   "metadata": {},
   "source": [
    "This can now be written using the corresponding `trexio.write_nucleus_label` function:"
   ]
  },
  {
   "cell_type": "code",
   "execution_count": 15,
   "id": "c57df5c0",
   "metadata": {
    "scrolled": true
   },
   "outputs": [],
   "source": [
    "trexio.write_nucleus_label(demo_file, labels)"
   ]
  },
  {
   "cell_type": "markdown",
   "id": "06f0da59",
   "metadata": {},
   "source": [
    "Two examples above demonstrate how to write arrays of numbers or strings in the file. TREXIO also supports I/O operations on single numerical or string attributes. In fact, in this Tutorial you have already written one numerical attribute: `nucleus_num`. Let's now write a string `'D6h'`, which indicates a point group of benzene molecule. According to the TREX configuration file, `point_group` is a `str` attribute of the `nucleus` group, thus it can be written in the `demo_file` as follows"
   ]
  },
  {
   "cell_type": "code",
   "execution_count": 16,
   "id": "116e0a21",
   "metadata": {
    "scrolled": true
   },
   "outputs": [],
   "source": [
    "point_group = 'D6h'"
   ]
  },
  {
   "cell_type": "code",
   "execution_count": 17,
   "id": "38394099",
   "metadata": {
    "scrolled": true
   },
   "outputs": [],
   "source": [
    "trexio.write_nucleus_point_group(demo_file, point_group)"
   ]
  },
  {
   "cell_type": "markdown",
   "id": "efaa8b9e",
   "metadata": {},
   "source": [
    "### Writing NumPy arrays (float or int types)"
   ]
  },
  {
   "cell_type": "markdown",
   "id": "df4a6e71",
   "metadata": {},
   "source": [
    "The aforementioned examples cover the majority of the currently implemented functionality related to writing data in the file. It is worth mentioning that I/O of numerical arrays in TREXIO Python API relies on extensive use of the [NumPy package](https://numpy.org/). This will be discussed in more details in the [next section](#Reading-data-from-the-TREXIO-file). However, TREXIO `write_` functions that work with numerical arrays also accept `numpy.ndarray` objects. For example, consider a `coords` list of nuclear coordinates that correspond to benzene molecule"
   ]
  },
  {
   "cell_type": "code",
   "execution_count": 18,
   "id": "34e226c2",
   "metadata": {
    "scrolled": true
   },
   "outputs": [],
   "source": [
    "coords = [\n",
    "    [0.00000000  ,  1.39250319 ,  0.00000000 ],\n",
    "    [-1.20594314 ,  0.69625160 ,  0.00000000 ],\n",
    "    [-1.20594314 , -0.69625160 ,  0.00000000 ],\n",
    "    [0.00000000  , -1.39250319 ,  0.00000000 ],\n",
    "    [1.20594314  , -0.69625160 ,  0.00000000 ],\n",
    "    [1.20594314  ,  0.69625160 ,  0.00000000 ],\n",
    "    [-2.14171677 ,  1.23652075 ,  0.00000000 ],\n",
    "    [-2.14171677 , -1.23652075 ,  0.00000000 ],\n",
    "    [0.00000000  , -2.47304151 ,  0.00000000 ],\n",
    "    [2.14171677  , -1.23652075 ,  0.00000000 ],\n",
    "    [2.14171677  ,  1.23652075 ,  0.00000000 ],\n",
    "    [0.00000000  ,  2.47304151 ,  0.00000000 ],\n",
    "    ]"
   ]
  },
  {
   "cell_type": "markdown",
   "id": "fe4d3ec8",
   "metadata": {},
   "source": [
    "Let's take advantage of using NumPy arrays with fixed precision for floating point numbers. But first, try to import the `numpy` package"
   ]
  },
  {
   "cell_type": "code",
   "execution_count": 19,
   "id": "95744631",
   "metadata": {
    "scrolled": true
   },
   "outputs": [],
   "source": [
    "try:\n",
    "    import numpy as np\n",
    "except ImportError:\n",
    "    raise Exception(\"Unable to import numpy. Please check that numpy is properly instaled.\")"
   ]
  },
  {
   "cell_type": "markdown",
   "id": "0943127e",
   "metadata": {},
   "source": [
    "You can now convert the previously defined `coords` list into a numpy array with fixed `float64` type as follows"
   ]
  },
  {
   "cell_type": "code",
   "execution_count": 20,
   "id": "32dcf676",
   "metadata": {
    "scrolled": true
   },
   "outputs": [],
   "source": [
    "coords_np = np.array(coords, dtype=np.float64)"
   ]
  },
  {
   "cell_type": "markdown",
   "id": "40117f59",
   "metadata": {},
   "source": [
    "TREXIO functions that write numerical arrays accept both lists and numpy arrays as a second argument. That is, both `trexio.write_nucleus_coord(demo_file, coords)` and `trexio.write_nucleus_coord(demo_file, coords_np)` are valid API calls. Let's use the latter and see if it works"
   ]
  },
  {
   "cell_type": "code",
   "execution_count": 21,
   "id": "f8b26486",
   "metadata": {
    "scrolled": true
   },
   "outputs": [],
   "source": [
    "trexio.write_nucleus_coord(demo_file, coords_np)"
   ]
  },
  {
   "cell_type": "markdown",
   "id": "78cf6aef",
   "metadata": {},
   "source": [
    "Congratulations, you have just completed the `nucleus` section of the TREXIO file for benzene molecule! Note that TREXIO API is rather permissive and do not impose any strict ordering on the I/O operations. The only requirement is that dimensioning (`_num` suffixed) variables have to be written in the file **before** writing arrays that depend on these variables. For example, attempting to write `nucleus_charge` or `nucleus_coord` fails if `nucleus_num` has not been written."
   ]
  },
  {
   "cell_type": "markdown",
   "id": "8f915ff5",
   "metadata": {},
   "source": [
    "### TREXIO error handling"
   ]
  },
  {
   "cell_type": "markdown",
   "id": "a586f84a",
   "metadata": {},
   "source": [
    "TREXIO Python API provides the `trexio.Error` class which simplifies exception handling in the Python scripts. This class wraps up TREXIO return codes and propagates them all the way from the C back end to the Python front end. Let's try to write a negative number of basis set shells `basis_num` in the TREXIO file."
   ]
  },
  {
   "cell_type": "code",
   "execution_count": 22,
   "id": "e957f557",
   "metadata": {
    "scrolled": true
   },
   "outputs": [
    {
     "name": "stdout",
     "output_type": "stream",
     "text": [
      "TREXIO error message: Invalid argument 2\n"
     ]
    }
   ],
   "source": [
    "try:\n",
    "    trexio.write_basis_num(demo_file, -256)\n",
    "except trexio.Error as e:\n",
    "    print(f\"TREXIO error message: {e.message}\")"
   ]
  },
  {
   "cell_type": "markdown",
   "id": "d19e3dc1",
   "metadata": {},
   "source": [
    "The error message says **Invalid argument 2**, which indicates that the user-provided value `-256` is not valid."
   ]
  },
  {
   "cell_type": "markdown",
   "id": "8f8cf2f2",
   "metadata": {},
   "source": [
    "As mentioned before, `_num`-suffixed variables cannot be overwritten in the file. But what happens if you accidentally attempt to do so? Let's have a look at the `write_nucleus_num` function as an example:"
   ]
  },
  {
   "cell_type": "code",
   "execution_count": 24,
   "id": "c5c86a38",
   "metadata": {
    "scrolled": true
   },
   "outputs": [
    {
     "name": "stdout",
     "output_type": "stream",
     "text": [
      "TREXIO user warning: Attribute already exists\n"
     ]
    }
   ],
   "source": [
    "try:\n",
    "    trexio.write_nucleus_num(demo_file, 24)\n",
    "except trexio.Error as e:\n",
    "    print(f\"TREXIO error message: {e.message}\")"
   ]
  },
  {
   "cell_type": "markdown",
   "id": "c396a1ff",
   "metadata": {},
   "source": [
    "The API rightfully complains that the target attribute already exists and cannot be overwritten."
   ]
  },
  {
   "cell_type": "markdown",
   "id": "f2ef414f",
   "metadata": {},
   "source": [
    "What about writing arrays? Let's try to write an list of 48 nuclear indices instead of 12"
   ]
  },
  {
   "cell_type": "code",
   "execution_count": 25,
   "id": "47d6fd0f",
   "metadata": {
    "scrolled": true
   },
   "outputs": [],
   "source": [
    "indices = [i for i in range(nucleus_num*4)]"
   ]
  },
  {
   "cell_type": "code",
   "execution_count": 26,
   "id": "33df1b59",
   "metadata": {
    "scrolled": true
   },
   "outputs": [
    {
     "name": "stdout",
     "output_type": "stream",
     "text": [
      "TREXIO error message: Access to memory beyond allocated\n"
     ]
    }
   ],
   "source": [
    "try:\n",
    "    trexio.write_basis_nucleus_index(demo_file, indices)\n",
    "except trexio.Error as e:\n",
    "    print(f\"TREXIO error message: {e.message}\")"
   ]
  },
  {
   "cell_type": "markdown",
   "id": "be8aec8b",
   "metadata": {},
   "source": [
    "According to the TREX configuration file, `nucleus_index` attribute of a `basis` group is supposed to have `[nucleus_num]` elements. In the example above, we have tried to write 4 times more elements, which might lead to memory and/or file corruption. Luckily, TREXIO internally checks the array dimensions and returns an error in case of inconsistency."
   ]
  },
  {
   "cell_type": "markdown",
   "id": "8162d757",
   "metadata": {},
   "source": [
    "## Closing the TREXIO file"
   ]
  },
  {
   "cell_type": "markdown",
   "id": "d5fab122",
   "metadata": {},
   "source": [
    "It is good practice to close the TREXIO file at the end of the session. In fact, `trexio.File` class has a destructor, which normally takes care of that. However, if you intend to re-open the TREXIO file, it has to be closed explicitly before. This can be done using the `close` method, i.e."
   ]
  },
  {
   "cell_type": "code",
   "execution_count": 27,
   "id": "1fbe58d2",
   "metadata": {
    "scrolled": true
   },
   "outputs": [],
   "source": [
    "demo_file.close()"
   ]
  },
  {
   "cell_type": "markdown",
   "id": "31bf30e3",
   "metadata": {},
   "source": [
    "Good! You are now ready to inspect the contents of the `benzene_demo.h5` file using the reading functionality of TREXIO."
   ]
  },
  {
   "cell_type": "markdown",
   "id": "cde5f089",
   "metadata": {},
   "source": [
    "## Reading data from the TREXIO file"
   ]
  },
  {
   "cell_type": "markdown",
   "id": "d7e42df5",
   "metadata": {},
   "source": [
    "First, let's try to open an existing TREXIO file in read-only mode. This can be done by creating a new instance of the `trexio.File` class but this time with `mode='r'` argument. Back end has to be specified as well."
   ]
  },
  {
   "cell_type": "code",
   "execution_count": 28,
   "id": "992a8a3a",
   "metadata": {
    "scrolled": true
   },
   "outputs": [],
   "source": [
    "demo_file_r = trexio.File(filename, mode='r', back_end=trexio.TREXIO_HDF5)"
   ]
  },
  {
   "cell_type": "markdown",
   "id": "41692f1f",
   "metadata": {},
   "source": [
    "When reading data from the TREXIO file, the only required argument is a previously created instance of `trexio.File` class. In our case, it is `demo_file_r`. TREXIO functions with `read_` prefix return the desired variable as an output. For example, `nucleus_num` value can be read from the file as follows"
   ]
  },
  {
   "cell_type": "code",
   "execution_count": 29,
   "id": "91240c6b",
   "metadata": {
    "scrolled": true
   },
   "outputs": [],
   "source": [
    "nucleus_num_r = trexio.read_nucleus_num(demo_file_r)"
   ]
  },
  {
   "cell_type": "code",
   "execution_count": 30,
   "id": "1cd89c00",
   "metadata": {
    "scrolled": true
   },
   "outputs": [
    {
     "name": "stdout",
     "output_type": "stream",
     "text": [
      "nucleus_num from benzene_demo.h5 file ---> 12\n"
     ]
    }
   ],
   "source": [
    "print(f\"nucleus_num from {filename} file ---> {nucleus_num_r}\")"
   ]
  },
  {
   "cell_type": "markdown",
   "id": "ebc0ad5e",
   "metadata": {},
   "source": [
    "The function call assigns `nucleus_num_r` to 12, which is consistent with the number of atoms in benzene that we wrote in the previous section."
   ]
  },
  {
   "cell_type": "markdown",
   "id": "d9a91aad",
   "metadata": {},
   "source": [
    "All calls to functions that read data can be done in a very similar way. The key point here is a function name, which in turn defines the output format. Hopefully by now you got used to the TREXIO naming convention and the contents of the `nucleus` group. Which function would you call to read a `point_group` attribute of the `nucleus` group? What type does it return? See the answer below:"
   ]
  },
  {
   "cell_type": "code",
   "execution_count": 31,
   "id": "67f97cad",
   "metadata": {
    "scrolled": true
   },
   "outputs": [],
   "source": [
    "point_group_r = trexio.read_nucleus_point_group(demo_file_r)"
   ]
  },
  {
   "cell_type": "code",
   "execution_count": 32,
   "id": "92ee065a",
   "metadata": {
    "scrolled": true
   },
   "outputs": [
    {
     "name": "stdout",
     "output_type": "stream",
     "text": [
      "nucleus_point_group from benzene_demo.h5 TREXIO file ---> D6h\n",
      "\n",
      "Is return type of read_nucleus_point_group a string? ---> True\n"
     ]
    }
   ],
   "source": [
    "print(f\"nucleus_point_group from {filename} TREXIO file ---> {point_group_r}\\n\")\n",
    "print(f\"Is return type of read_nucleus_point_group a string? ---> {isinstance(point_group_r, str)}\")"
   ]
  },
  {
   "cell_type": "markdown",
   "id": "b4e0a324",
   "metadata": {},
   "source": [
    "The `trexio.read_nucleus_point_group` function call returns a string `D6h`, which is exactly what we provided in the previous section. Now, let's read nuclear charges and labels."
   ]
  },
  {
   "cell_type": "code",
   "execution_count": 33,
   "id": "e120e07b",
   "metadata": {
    "scrolled": true
   },
   "outputs": [],
   "source": [
    "labels_r = trexio.read_nucleus_label(demo_file_r)"
   ]
  },
  {
   "cell_type": "code",
   "execution_count": 34,
   "id": "a98021e7",
   "metadata": {
    "scrolled": true
   },
   "outputs": [
    {
     "name": "stdout",
     "output_type": "stream",
     "text": [
      "nucleus_label from benzene_demo.h5 file \n",
      "---> ['C', 'C', 'C', 'C', 'C', 'C', 'H', 'H', 'H', 'H', 'H', 'H']\n"
     ]
    }
   ],
   "source": [
    "print(f\"nucleus_label from {filename} file \\n---> {labels_r}\")"
   ]
  },
  {
   "cell_type": "code",
   "execution_count": 35,
   "id": "e8af003f",
   "metadata": {
    "scrolled": true
   },
   "outputs": [],
   "source": [
    "charges_r = trexio.read_nucleus_charge(demo_file_r)"
   ]
  },
  {
   "cell_type": "code",
   "execution_count": 36,
   "id": "0c3e3ad2",
   "metadata": {
    "scrolled": true
   },
   "outputs": [
    {
     "name": "stdout",
     "output_type": "stream",
     "text": [
      "nucleus_charge from benzene_demo.h5 file \n",
      "---> [6. 6. 6. 6. 6. 6. 1. 1. 1. 1. 1. 1.]\n"
     ]
    }
   ],
   "source": [
    "print(f\"nucleus_charge from {filename} file \\n---> {charges_r}\")"
   ]
  },
  {
   "cell_type": "markdown",
   "id": "283dde64",
   "metadata": {},
   "source": [
    "The values are consistent with each other and with the previously written data. Not bad. What about the format of the output? "
   ]
  },
  {
   "cell_type": "code",
   "execution_count": 37,
   "id": "62f6c3f5",
   "metadata": {
    "scrolled": true
   },
   "outputs": [
    {
     "name": "stdout",
     "output_type": "stream",
     "text": [
      "nucleus_label return type: <class 'list'>\n"
     ]
    }
   ],
   "source": [
    "print(f\"nucleus_label return type: {type(labels_r)}\")"
   ]
  },
  {
   "cell_type": "markdown",
   "id": "31d2576d",
   "metadata": {},
   "source": [
    "This makes sense, isn't it? We have written a `list` of nuclear labels and have received back a `list` of values from the file. What about nuclear charges?"
   ]
  },
  {
   "cell_type": "code",
   "execution_count": 38,
   "id": "59d97c80",
   "metadata": {
    "scrolled": true
   },
   "outputs": [
    {
     "name": "stdout",
     "output_type": "stream",
     "text": [
      "nucleus_charge return type: <class 'numpy.ndarray'>\n"
     ]
    }
   ],
   "source": [
    "print(f\"nucleus_charge return type: {type(charges_r)}\")"
   ]
  },
  {
   "cell_type": "markdown",
   "id": "dbb9f2f2",
   "metadata": {},
   "source": [
    "Looks like `trexio.read_nucleus_charge` function returns a `numpy.ndarray` even though we have provided a python-ic `list` to `trexio.write_nucleus_charge` in the previous section. Why is it so? As has been mentioned before, TREXIO Python API internally relies on the use of the NumPy package to communicate arrays of `float`-like or `int`-like values. This prevents some memory leaks and grants additional flexibility to the API. What kind of flexibility? Check this out:"
   ]
  },
  {
   "cell_type": "code",
   "execution_count": 39,
   "id": "b0eaa006",
   "metadata": {
    "scrolled": true
   },
   "outputs": [
    {
     "name": "stdout",
     "output_type": "stream",
     "text": [
      "return dtype in NumPy notation: ---> float64\n"
     ]
    }
   ],
   "source": [
    "print(f\"return dtype in NumPy notation: ---> {charges_r.dtype}\")"
   ]
  },
  {
   "cell_type": "markdown",
   "id": "74402337",
   "metadata": {},
   "source": [
    "It means that the default precision of the TREXIO output is double (`np.float64`) for arrays of floating point numbers like `nucleus_charge`. But what if you do not need this extra precision and would like to read nuclear charges in single (`np.float32`) or even reduced (e.g. `np.float16`) precision? TREXIO Python API provides an additional (optional) argument for this. This argument is called `dtype` and accepts one of the [NumPy data types](https://numpy.org/doc/stable/user/basics.types.html). For example,"
   ]
  },
  {
   "cell_type": "code",
   "execution_count": 40,
   "id": "9f2a77b7",
   "metadata": {
    "scrolled": true
   },
   "outputs": [],
   "source": [
    "charges_np = trexio.read_nucleus_charge(demo_file_r, dtype=np.float32)"
   ]
  },
  {
   "cell_type": "code",
   "execution_count": 41,
   "id": "2f6f4a79",
   "metadata": {
    "scrolled": true
   },
   "outputs": [
    {
     "name": "stdout",
     "output_type": "stream",
     "text": [
      "return dtype in NumPy notation: ---> float32\n"
     ]
    }
   ],
   "source": [
    "print(f\"return dtype in NumPy notation: ---> {charges_np.dtype}\")"
   ]
  },
  {
   "cell_type": "markdown",
   "id": "441bc835",
   "metadata": {},
   "source": [
    "### Reading multidimensional arrays"
   ]
  },
  {
   "cell_type": "markdown",
   "id": "d6cc6e57",
   "metadata": {},
   "source": [
    "So far, we have only read flat 1D arrays. However, we have also written a 2D array of nuclear coordinates. Let's now read it back from the file:"
   ]
  },
  {
   "cell_type": "code",
   "execution_count": 42,
   "id": "2c92bfe3",
   "metadata": {
    "scrolled": true
   },
   "outputs": [],
   "source": [
    "coords_r = trexio.read_nucleus_coord(demo_file_r)"
   ]
  },
  {
   "cell_type": "code",
   "execution_count": 43,
   "id": "f9cd8bb9",
   "metadata": {
    "scrolled": true
   },
   "outputs": [
    {
     "name": "stdout",
     "output_type": "stream",
     "text": [
      "nucleus_coord from benzene_demo.h5 TREXIO file: \n",
      "[[ 0.          1.39250319  0.        ]\n",
      " [-1.20594314  0.6962516   0.        ]\n",
      " [-1.20594314 -0.6962516   0.        ]\n",
      " [ 0.         -1.39250319  0.        ]\n",
      " [ 1.20594314 -0.6962516   0.        ]\n",
      " [ 1.20594314  0.6962516   0.        ]\n",
      " [-2.14171677  1.23652075  0.        ]\n",
      " [-2.14171677 -1.23652075  0.        ]\n",
      " [ 0.         -2.47304151  0.        ]\n",
      " [ 2.14171677 -1.23652075  0.        ]\n",
      " [ 2.14171677  1.23652075  0.        ]\n",
      " [ 0.          2.47304151  0.        ]]\n"
     ]
    }
   ],
   "source": [
    "print(f\"nucleus_coord from {filename} TREXIO file: \\n{coords_r}\")"
   ]
  },
  {
   "cell_type": "code",
   "execution_count": 44,
   "id": "89d5564d",
   "metadata": {
    "scrolled": true
   },
   "outputs": [
    {
     "name": "stdout",
     "output_type": "stream",
     "text": [
      "return shape: ---> (12, 3)\n"
     ]
    }
   ],
   "source": [
    "print(f\"return shape: ---> {coords_r.shape}\")"
   ]
  },
  {
   "cell_type": "markdown",
   "id": "ca7f03e7",
   "metadata": {},
   "source": [
    "We can see that TREXIO returns a 2D array with 12 rows and 3 columns, which is consistent with the `nucleus_coord` dimensions `[nucleus_num, 3]`. What this means is that **by default TREXIO reshapes the output flat array into a multidimensional one** whenever applicable. This is done based on the shape specified in the TREX configuration file."
   ]
  },
  {
   "cell_type": "markdown",
   "id": "b4b82539",
   "metadata": {},
   "source": [
    "## Conclusion"
   ]
  },
  {
   "cell_type": "markdown",
   "id": "6ce8ef90",
   "metadata": {},
   "source": [
    "In this Tutorial, you have created a TREXIO file using HDF5 back end and have written the number of atoms, point group, nuclear charges, labels and coordinates, which correspond to benzene molecule. You have also learned how to read this data back from the TREXIO file and how to handle some TREXIO errors."
   ]
  }
 ],
 "metadata": {
  "kernelspec": {
   "display_name": "Python 3 (ipykernel)",
   "language": "python",
   "name": "python3"
  },
  "language_info": {
   "codemirror_mode": {
    "name": "ipython",
    "version": 3
   },
   "file_extension": ".py",
   "mimetype": "text/x-python",
   "name": "python",
   "nbconvert_exporter": "python",
   "pygments_lexer": "ipython3",
   "version": "3.8.10"
  }
 },
 "nbformat": 4,
 "nbformat_minor": 5
}
