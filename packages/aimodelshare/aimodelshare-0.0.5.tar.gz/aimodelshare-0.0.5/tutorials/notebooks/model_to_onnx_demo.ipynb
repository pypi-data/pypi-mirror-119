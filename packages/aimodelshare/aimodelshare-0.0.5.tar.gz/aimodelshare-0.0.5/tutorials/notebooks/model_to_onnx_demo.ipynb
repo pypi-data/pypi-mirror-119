{
 "cells": [
  {
   "cell_type": "markdown",
   "metadata": {},
   "source": [
    "# Prepare data"
   ]
  },
  {
   "cell_type": "code",
   "execution_count": 49,
   "metadata": {},
   "outputs": [
    {
     "name": "stdout",
     "output_type": "stream",
     "text": [
      "The autoreload extension is already loaded. To reload it, use:\n",
      "  %reload_ext autoreload\n"
     ]
    }
   ],
   "source": [
    "%load_ext autoreload\n",
    "%autoreload 2"
   ]
  },
  {
   "cell_type": "code",
   "execution_count": 66,
   "metadata": {},
   "outputs": [],
   "source": [
    "from aimsonnx import model_to_onnx, _get_metadata\n",
    "from sklearn.datasets import load_iris\n",
    "from sklearn.model_selection import train_test_split"
   ]
  },
  {
   "cell_type": "code",
   "execution_count": 67,
   "metadata": {},
   "outputs": [],
   "source": [
    "iris = load_iris()\n",
    "X, y = iris.data, iris.target\n",
    "X_train, X_test, y_train, y_test = train_test_split(X, y)"
   ]
  },
  {
   "cell_type": "markdown",
   "metadata": {},
   "source": [
    "# Scikit-Learn"
   ]
  },
  {
   "cell_type": "code",
   "execution_count": 68,
   "metadata": {},
   "outputs": [],
   "source": [
    "from sklearn.model_selection import train_test_split\n",
    "from sklearn.neural_network import MLPClassifier\n",
    "from skl2onnx.common.data_types import FloatTensorType\n"
   ]
  },
  {
   "cell_type": "markdown",
   "metadata": {},
   "source": [
    "### Instantiate model"
   ]
  },
  {
   "cell_type": "code",
   "execution_count": 69,
   "metadata": {
    "scrolled": true
   },
   "outputs": [
    {
     "name": "stderr",
     "output_type": "stream",
     "text": [
      "C:\\Users\\heinr\\anaconda3\\envs\\aimodelshare\\lib\\site-packages\\sklearn\\neural_network\\_multilayer_perceptron.py:582: ConvergenceWarning: Stochastic Optimizer: Maximum iterations (200) reached and the optimization hasn't converged yet.\n",
      "  warnings.warn(\n"
     ]
    },
    {
     "data": {
      "text/plain": [
       "MLPClassifier(hidden_layer_sizes=(5, 5))"
      ]
     },
     "execution_count": 69,
     "metadata": {},
     "output_type": "execute_result"
    }
   ],
   "source": [
    "model_sklearn = MLPClassifier(hidden_layer_sizes=(5,5))\n",
    "model_sklearn.fit(X_train, y_train)"
   ]
  },
  {
   "cell_type": "markdown",
   "metadata": {},
   "source": [
    "### Transform to ONNX"
   ]
  },
  {
   "cell_type": "code",
   "execution_count": 70,
   "metadata": {},
   "outputs": [
    {
     "name": "stdout",
     "output_type": "stream",
     "text": [
      "list index out of range\n"
     ]
    }
   ],
   "source": [
    "# specify intial types of predictors\n",
    "initial_type = [('float_input', FloatTensorType([None, 4]))]\n",
    "\n",
    "# transform sklearn model to ONNX\n",
    "onnx_model_sklearn = model_to_onnx(model_sklearn, framework='sklearn', \n",
    "                                   initial_types=initial_type,\n",
    "                                   transfer_learning=False,\n",
    "                                   deep_learning=True,\n",
    "                                   task_type='classification')"
   ]
  },
  {
   "cell_type": "markdown",
   "metadata": {},
   "source": [
    "### Check metadata"
   ]
  },
  {
   "cell_type": "code",
   "execution_count": 71,
   "metadata": {},
   "outputs": [
    {
     "data": {
      "text/plain": [
       "{'model_metadata': '{\\'model_id\\': None, \\'data_id\\': None, \\'preprocessor_id\\': None, \\'ml_framework\\': \\'sklearn\\', \\'model_type\\': \\'MLPClassifier(hidden_layer_sizes=(5, 5))\\', \\'transfer_learning\\': False, \\'deep_learning\\': True, \\'task_type\\': \\'classification\\', \\'target_distribution\\': None, \\'input_type\\': None, \\'input_shape\\': None, \\'input_dtypes\\': None, \\'input_distribution\\': None, \\'model_config\\': \"{\\'activation\\': \\'relu\\', \\'alpha\\': 0.0001, \\'batch_size\\': \\'auto\\', \\'beta_1\\': 0.9, \\'beta_2\\': 0.999, \\'early_stopping\\': False, \\'epsilon\\': 1e-08, \\'hidden_layer_sizes\\': (5, 5), \\'learning_rate\\': \\'constant\\', \\'learning_rate_init\\': 0.001, \\'max_fun\\': 15000, \\'max_iter\\': 200, \\'momentum\\': 0.9, \\'n_iter_no_change\\': 10, \\'nesterovs_momentum\\': True, \\'power_t\\': 0.5, \\'random_state\\': None, \\'shuffle\\': True, \\'solver\\': \\'adam\\', \\'tol\\': 0.0001, \\'validation_fraction\\': 0.1, \\'verbose\\': False, \\'warm_start\\': False}\", \\'model_state\\': None, \\'model_architecture\\': None, \\'eval_metrics\\': None, \\'metadata_onnx\\': {\\'input_shape\\': dim_value: 4\\n}}'}"
      ]
     },
     "execution_count": 71,
     "metadata": {},
     "output_type": "execute_result"
    }
   ],
   "source": [
    "_get_metadata(onnx_model_sklearn)"
   ]
  },
  {
   "cell_type": "markdown",
   "metadata": {},
   "source": [
    "# Keras"
   ]
  },
  {
   "cell_type": "code",
   "execution_count": 72,
   "metadata": {},
   "outputs": [],
   "source": [
    "from tensorflow.keras.layers import Dense, Input, Dropout\n",
    "from tensorflow.keras.models import Sequential\n",
    "from tensorflow.keras.utils import to_categorical"
   ]
  },
  {
   "cell_type": "markdown",
   "metadata": {},
   "source": [
    "### Instantiate model"
   ]
  },
  {
   "cell_type": "code",
   "execution_count": 73,
   "metadata": {},
   "outputs": [],
   "source": [
    "model_keras = Sequential()\n",
    "model_keras.add(Input(shape=(4,)))\n",
    "model_keras.add(Dense(units=5, activation='relu'))\n",
    "model_keras.add(Dense(units=5, activation='relu'))\n",
    "model_keras.add(Dense(units=3, activation='softmax'))\n",
    "\n",
    "model_keras.compile(loss='categorical_crossentropy',\n",
    "              metrics=['accuracy'])"
   ]
  },
  {
   "cell_type": "code",
   "execution_count": 74,
   "metadata": {},
   "outputs": [
    {
     "name": "stdout",
     "output_type": "stream",
     "text": [
      "Model: \"sequential_3\"\n",
      "_________________________________________________________________\n",
      "Layer (type)                 Output Shape              Param #   \n",
      "=================================================================\n",
      "dense_9 (Dense)              (None, 5)                 25        \n",
      "_________________________________________________________________\n",
      "dense_10 (Dense)             (None, 5)                 30        \n",
      "_________________________________________________________________\n",
      "dense_11 (Dense)             (None, 3)                 18        \n",
      "=================================================================\n",
      "Total params: 73\n",
      "Trainable params: 73\n",
      "Non-trainable params: 0\n",
      "_________________________________________________________________\n"
     ]
    }
   ],
   "source": [
    "model_keras.summary()"
   ]
  },
  {
   "cell_type": "code",
   "execution_count": 75,
   "metadata": {},
   "outputs": [
    {
     "name": "stdout",
     "output_type": "stream",
     "text": [
      "4/4 [==============================] - 0s 499us/step - loss: 2.6581 - accuracy: 0.3125\n"
     ]
    },
    {
     "data": {
      "text/plain": [
       "<tensorflow.python.keras.callbacks.History at 0x1f337a920a0>"
      ]
     },
     "execution_count": 75,
     "metadata": {},
     "output_type": "execute_result"
    }
   ],
   "source": [
    "model_keras.fit(X_train, to_categorical(y_train, 3))"
   ]
  },
  {
   "cell_type": "markdown",
   "metadata": {},
   "source": [
    "### Transform to ONNX"
   ]
  },
  {
   "cell_type": "code",
   "execution_count": 76,
   "metadata": {},
   "outputs": [
    {
     "name": "stderr",
     "output_type": "stream",
     "text": [
      "tf executing eager_mode: True\n",
      "tf.keras model eager_mode: False\n",
      "The ONNX operator number change on the optimization: 13 -> 9\n",
      "The maximum opset needed by this model is only 9.\n"
     ]
    }
   ],
   "source": [
    "# drop in replacement \n",
    "onnx_model_keras = model_to_onnx(model_keras, framework='keras',\n",
    "                                 transfer_learning=False,\n",
    "                                 deep_learning=True,\n",
    "                                 task_type='classification')"
   ]
  },
  {
   "cell_type": "markdown",
   "metadata": {},
   "source": [
    "### Check metadata"
   ]
  },
  {
   "cell_type": "code",
   "execution_count": 77,
   "metadata": {},
   "outputs": [
    {
     "data": {
      "text/plain": [
       "{'model_metadata': '{\\'model_id\\': None, \\'data_id\\': None, \\'preprocessor_id\\': None, \\'ml_framework\\': \\'keras\\', \\'model_type\\': \\'Sequential\\', \\'transfer_learning\\': False, \\'deep_learning\\': True, \\'task_type\\': \\'classification\\', \\'target_distribution\\': None, \\'input_type\\': None, \\'input_shape\\': None, \\'input_dtypes\\': None, \\'input_distribution\\': None, \\'model_config\\': \"{\\'name\\': \\'sequential_3\\', \\'layers\\': [{\\'class_name\\': \\'InputLayer\\', \\'config\\': {\\'batch_input_shape\\': (None, 4), \\'dtype\\': \\'float32\\', \\'sparse\\': False, \\'ragged\\': False, \\'name\\': \\'input_4\\'}}, {\\'class_name\\': \\'Dense\\', \\'config\\': {\\'name\\': \\'dense_9\\', \\'trainable\\': True, \\'dtype\\': \\'float32\\', \\'units\\': 5, \\'activation\\': \\'relu\\', \\'use_bias\\': True, \\'kernel_initializer\\': {\\'class_name\\': \\'GlorotUniform\\', \\'config\\': {\\'seed\\': None}}, \\'bias_initializer\\': {\\'class_name\\': \\'Zeros\\', \\'config\\': {}}, \\'kernel_regularizer\\': None, \\'bias_regularizer\\': None, \\'activity_regularizer\\': None, \\'kernel_constraint\\': None, \\'bias_constraint\\': None}}, {\\'class_name\\': \\'Dense\\', \\'config\\': {\\'name\\': \\'dense_10\\', \\'trainable\\': True, \\'dtype\\': \\'float32\\', \\'units\\': 5, \\'activation\\': \\'relu\\', \\'use_bias\\': True, \\'kernel_initializer\\': {\\'class_name\\': \\'GlorotUniform\\', \\'config\\': {\\'seed\\': None}}, \\'bias_initializer\\': {\\'class_name\\': \\'Zeros\\', \\'config\\': {}}, \\'kernel_regularizer\\': None, \\'bias_regularizer\\': None, \\'activity_regularizer\\': None, \\'kernel_constraint\\': None, \\'bias_constraint\\': None}}, {\\'class_name\\': \\'Dense\\', \\'config\\': {\\'name\\': \\'dense_11\\', \\'trainable\\': True, \\'dtype\\': \\'float32\\', \\'units\\': 3, \\'activation\\': \\'softmax\\', \\'use_bias\\': True, \\'kernel_initializer\\': {\\'class_name\\': \\'GlorotUniform\\', \\'config\\': {\\'seed\\': None}}, \\'bias_initializer\\': {\\'class_name\\': \\'Zeros\\', \\'config\\': {}}, \\'kernel_regularizer\\': None, \\'bias_regularizer\\': None, \\'activity_regularizer\\': None, \\'kernel_constraint\\': None, \\'bias_constraint\\': None}}]}\", \\'model_state\\': None, \\'model_architecture\\': {\\'layers_number\\': 3, \\'layers_sequence\\': [\\'Dense\\', \\'Dense\\', \\'Dense\\'], \\'layers_summary\\': {\\'Dense\\': 3}, \\'layers_n_params\\': [25, 30, 18], \\'layers_shapes\\': [(None, 5), (None, 5), (None, 3)]}, \\'eval_metrics\\': None, \\'metadata_onnx\\': {\\'input_shape\\': dim_value: 4\\n, \\'output_shape\\': dim_value: 3\\n}}'}"
      ]
     },
     "execution_count": 77,
     "metadata": {},
     "output_type": "execute_result"
    }
   ],
   "source": [
    "_get_metadata(onnx_model_keras)"
   ]
  },
  {
   "cell_type": "markdown",
   "metadata": {},
   "source": [
    "# Pytorch"
   ]
  },
  {
   "cell_type": "code",
   "execution_count": 78,
   "metadata": {},
   "outputs": [],
   "source": [
    "from torch import nn\n",
    "import torch"
   ]
  },
  {
   "cell_type": "markdown",
   "metadata": {},
   "source": [
    "### Instantiate model"
   ]
  },
  {
   "cell_type": "code",
   "execution_count": 79,
   "metadata": {},
   "outputs": [],
   "source": [
    "model_pytorch = nn.Sequential(nn.Linear(4, 5),\n",
    "                      nn.ReLU(),\n",
    "                      nn.Linear(5, 5),\n",
    "                      nn.ReLU(),\n",
    "                      nn.Linear(5, 3),\n",
    "                      nn.Softmax(dim=1))"
   ]
  },
  {
   "cell_type": "markdown",
   "metadata": {},
   "source": [
    "### Transform to ONNX"
   ]
  },
  {
   "cell_type": "code",
   "execution_count": 80,
   "metadata": {},
   "outputs": [],
   "source": [
    "dummy_input = torch.randn(1, 4)\n",
    "onnx_model_pytorch = model_to_onnx(model_pytorch, framework='pytorch',\n",
    "                                   model_input=dummy_input, \n",
    "                                   transfer_learning=False,\n",
    "                                   deep_learning=True,\n",
    "                                   task_type='classification')"
   ]
  },
  {
   "cell_type": "markdown",
   "metadata": {},
   "source": [
    "### Check metadata"
   ]
  },
  {
   "cell_type": "code",
   "execution_count": 81,
   "metadata": {},
   "outputs": [
    {
     "data": {
      "text/plain": [
       "{'model_metadata': '{\\'model_id\\': None, \\'data_id\\': None, \\'preprocessor_id\\': None, \\'ml_framework\\': \\'pytorch\\', \\'model_type\\': \\'Sequential()\\', \\'transfer_learning\\': False, \\'deep_learning\\': True, \\'task_type\\': \\'classification\\', \\'target_distribution\\': None, \\'input_type\\': None, \\'input_shape\\': None, \\'input_dtypes\\': None, \\'input_distribution\\': None, \\'model_config\\': \"{\\'training\\': True, \\'_parameters\\': OrderedDict(), \\'_buffers\\': OrderedDict(), \\'_non_persistent_buffers_set\\': set(), \\'_backward_hooks\\': OrderedDict(), \\'_forward_hooks\\': OrderedDict(), \\'_forward_pre_hooks\\': OrderedDict(), \\'_state_dict_hooks\\': OrderedDict(), \\'_load_state_dict_pre_hooks\\': OrderedDict(), \\'_modules\\': OrderedDict([(\\'0\\', Linear(in_features=4, out_features=5, bias=True)), (\\'1\\', ReLU()), (\\'2\\', Linear(in_features=5, out_features=5, bias=True)), (\\'3\\', ReLU()), (\\'4\\', Linear(in_features=5, out_features=3, bias=True)), (\\'5\\', Softmax(dim=1))])}\", \\'model_state\\': \"OrderedDict([(\\'0.weight\\', tensor([[-0.4322, -0.1222,  0.2211, -0.3396],\\\\n        [-0.4501, -0.4295, -0.4294,  0.3927],\\\\n        [ 0.4559,  0.3541,  0.4223,  0.4775],\\\\n        [-0.2274,  0.0023,  0.3525, -0.1433],\\\\n        [ 0.3810,  0.1590,  0.2048,  0.2178]])), (\\'0.bias\\', tensor([-0.4100, -0.3715, -0.3050, -0.0996, -0.2314])), (\\'2.weight\\', tensor([[-0.2221, -0.2093, -0.2939,  0.4375,  0.0467],\\\\n        [ 0.0798,  0.2469,  0.1383, -0.2016,  0.2801],\\\\n        [-0.0162, -0.0613, -0.2976,  0.3563,  0.4400],\\\\n        [ 0.1390,  0.2451,  0.2863,  0.3060, -0.1608],\\\\n        [-0.0795, -0.0368,  0.3553,  0.1187,  0.2402]])), (\\'2.bias\\', tensor([ 0.0421, -0.0343,  0.0384,  0.0627,  0.1929])), (\\'4.weight\\', tensor([[-0.2523,  0.2448,  0.2805,  0.1921,  0.0066],\\\\n        [-0.2616,  0.4358, -0.3794, -0.2250,  0.2465],\\\\n        [ 0.0674, -0.3007, -0.3481, -0.1666,  0.1399]])), (\\'4.bias\\', tensor([-0.0112, -0.2480,  0.4336]))])\", \\'model_architecture\\': None, \\'eval_metrics\\': None, \\'metadata_onnx\\': {\\'input_shape\\': dim_value: 4\\n, \\'output_shape\\': dim_value: 3\\n}}'}"
      ]
     },
     "execution_count": 81,
     "metadata": {},
     "output_type": "execute_result"
    }
   ],
   "source": [
    "_get_metadata(onnx_model_pytorch)"
   ]
  }
 ],
 "metadata": {
  "kernelspec": {
   "display_name": "Python 3",
   "language": "python",
   "name": "python3"
  },
  "language_info": {
   "codemirror_mode": {
    "name": "ipython",
    "version": 3
   },
   "file_extension": ".py",
   "mimetype": "text/x-python",
   "name": "python",
   "nbconvert_exporter": "python",
   "pygments_lexer": "ipython3",
   "version": "3.8.5"
  }
 },
 "nbformat": 4,
 "nbformat_minor": 4
}
