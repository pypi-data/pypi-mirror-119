{
  "nbformat": 4,
  "nbformat_minor": 0,
  "metadata": {
    "colab": {
      "name": "image_pytorch_classification_cifar.ipynb",
      "provenance": [],
      "collapsed_sections": [],
      "toc_visible": true
    },
    "kernelspec": {
      "name": "python3",
      "display_name": "Python 3"
    },
    "accelerator": "GPU",
    "widgets": {
      "application/vnd.jupyter.widget-state+json": {
        "6a60c57e5cbd4bb086d03c07654bd2f6": {
          "model_module": "@jupyter-widgets/controls",
          "model_name": "HBoxModel",
          "state": {
            "_view_name": "HBoxView",
            "_dom_classes": [],
            "_model_name": "HBoxModel",
            "_view_module": "@jupyter-widgets/controls",
            "_model_module_version": "1.5.0",
            "_view_count": null,
            "_view_module_version": "1.5.0",
            "box_style": "",
            "layout": "IPY_MODEL_e141761a3ab44598b222ec6be17589bc",
            "_model_module": "@jupyter-widgets/controls",
            "children": [
              "IPY_MODEL_c0bbc271e6cb4370b0b5a739e3ecafdc",
              "IPY_MODEL_ef267084307c47bdb55aa12ccac3e841"
            ]
          }
        },
        "e141761a3ab44598b222ec6be17589bc": {
          "model_module": "@jupyter-widgets/base",
          "model_name": "LayoutModel",
          "state": {
            "_view_name": "LayoutView",
            "grid_template_rows": null,
            "right": null,
            "justify_content": null,
            "_view_module": "@jupyter-widgets/base",
            "overflow": null,
            "_model_module_version": "1.2.0",
            "_view_count": null,
            "flex_flow": null,
            "width": null,
            "min_width": null,
            "border": null,
            "align_items": null,
            "bottom": null,
            "_model_module": "@jupyter-widgets/base",
            "top": null,
            "grid_column": null,
            "overflow_y": null,
            "overflow_x": null,
            "grid_auto_flow": null,
            "grid_area": null,
            "grid_template_columns": null,
            "flex": null,
            "_model_name": "LayoutModel",
            "justify_items": null,
            "grid_row": null,
            "max_height": null,
            "align_content": null,
            "visibility": null,
            "align_self": null,
            "height": null,
            "min_height": null,
            "padding": null,
            "grid_auto_rows": null,
            "grid_gap": null,
            "max_width": null,
            "order": null,
            "_view_module_version": "1.2.0",
            "grid_template_areas": null,
            "object_position": null,
            "object_fit": null,
            "grid_auto_columns": null,
            "margin": null,
            "display": null,
            "left": null
          }
        },
        "c0bbc271e6cb4370b0b5a739e3ecafdc": {
          "model_module": "@jupyter-widgets/controls",
          "model_name": "FloatProgressModel",
          "state": {
            "_view_name": "ProgressView",
            "style": "IPY_MODEL_82a304d68d5647fca19004a816ef89b5",
            "_dom_classes": [],
            "description": "",
            "_model_name": "FloatProgressModel",
            "bar_style": "success",
            "max": 1,
            "_view_module": "@jupyter-widgets/controls",
            "_model_module_version": "1.5.0",
            "value": 1,
            "_view_count": null,
            "_view_module_version": "1.5.0",
            "orientation": "horizontal",
            "min": 0,
            "description_tooltip": null,
            "_model_module": "@jupyter-widgets/controls",
            "layout": "IPY_MODEL_ec3cfc0d820346a88f817c83fa17dcca"
          }
        },
        "ef267084307c47bdb55aa12ccac3e841": {
          "model_module": "@jupyter-widgets/controls",
          "model_name": "HTMLModel",
          "state": {
            "_view_name": "HTMLView",
            "style": "IPY_MODEL_0e4a05f6f2104036b87bd6c927da89d7",
            "_dom_classes": [],
            "description": "",
            "_model_name": "HTMLModel",
            "placeholder": "​",
            "_view_module": "@jupyter-widgets/controls",
            "_model_module_version": "1.5.0",
            "value": " 170500096/? [00:05&lt;00:00, 31042538.90it/s]",
            "_view_count": null,
            "_view_module_version": "1.5.0",
            "description_tooltip": null,
            "_model_module": "@jupyter-widgets/controls",
            "layout": "IPY_MODEL_6490fd3c7d2443d19fad9269362aca87"
          }
        },
        "82a304d68d5647fca19004a816ef89b5": {
          "model_module": "@jupyter-widgets/controls",
          "model_name": "ProgressStyleModel",
          "state": {
            "_view_name": "StyleView",
            "_model_name": "ProgressStyleModel",
            "description_width": "initial",
            "_view_module": "@jupyter-widgets/base",
            "_model_module_version": "1.5.0",
            "_view_count": null,
            "_view_module_version": "1.2.0",
            "bar_color": null,
            "_model_module": "@jupyter-widgets/controls"
          }
        },
        "ec3cfc0d820346a88f817c83fa17dcca": {
          "model_module": "@jupyter-widgets/base",
          "model_name": "LayoutModel",
          "state": {
            "_view_name": "LayoutView",
            "grid_template_rows": null,
            "right": null,
            "justify_content": null,
            "_view_module": "@jupyter-widgets/base",
            "overflow": null,
            "_model_module_version": "1.2.0",
            "_view_count": null,
            "flex_flow": null,
            "width": null,
            "min_width": null,
            "border": null,
            "align_items": null,
            "bottom": null,
            "_model_module": "@jupyter-widgets/base",
            "top": null,
            "grid_column": null,
            "overflow_y": null,
            "overflow_x": null,
            "grid_auto_flow": null,
            "grid_area": null,
            "grid_template_columns": null,
            "flex": null,
            "_model_name": "LayoutModel",
            "justify_items": null,
            "grid_row": null,
            "max_height": null,
            "align_content": null,
            "visibility": null,
            "align_self": null,
            "height": null,
            "min_height": null,
            "padding": null,
            "grid_auto_rows": null,
            "grid_gap": null,
            "max_width": null,
            "order": null,
            "_view_module_version": "1.2.0",
            "grid_template_areas": null,
            "object_position": null,
            "object_fit": null,
            "grid_auto_columns": null,
            "margin": null,
            "display": null,
            "left": null
          }
        },
        "0e4a05f6f2104036b87bd6c927da89d7": {
          "model_module": "@jupyter-widgets/controls",
          "model_name": "DescriptionStyleModel",
          "state": {
            "_view_name": "StyleView",
            "_model_name": "DescriptionStyleModel",
            "description_width": "",
            "_view_module": "@jupyter-widgets/base",
            "_model_module_version": "1.5.0",
            "_view_count": null,
            "_view_module_version": "1.2.0",
            "_model_module": "@jupyter-widgets/controls"
          }
        },
        "6490fd3c7d2443d19fad9269362aca87": {
          "model_module": "@jupyter-widgets/base",
          "model_name": "LayoutModel",
          "state": {
            "_view_name": "LayoutView",
            "grid_template_rows": null,
            "right": null,
            "justify_content": null,
            "_view_module": "@jupyter-widgets/base",
            "overflow": null,
            "_model_module_version": "1.2.0",
            "_view_count": null,
            "flex_flow": null,
            "width": null,
            "min_width": null,
            "border": null,
            "align_items": null,
            "bottom": null,
            "_model_module": "@jupyter-widgets/base",
            "top": null,
            "grid_column": null,
            "overflow_y": null,
            "overflow_x": null,
            "grid_auto_flow": null,
            "grid_area": null,
            "grid_template_columns": null,
            "flex": null,
            "_model_name": "LayoutModel",
            "justify_items": null,
            "grid_row": null,
            "max_height": null,
            "align_content": null,
            "visibility": null,
            "align_self": null,
            "height": null,
            "min_height": null,
            "padding": null,
            "grid_auto_rows": null,
            "grid_gap": null,
            "max_width": null,
            "order": null,
            "_view_module_version": "1.2.0",
            "grid_template_areas": null,
            "object_position": null,
            "object_fit": null,
            "grid_auto_columns": null,
            "margin": null,
            "display": null,
            "left": null
          }
        }
      }
    }
  },
  "cells": [
    {
      "cell_type": "markdown",
      "metadata": {
        "id": "0BviI4QIdWiq"
      },
      "source": [
        "<p align=\"center\"><img width=\"50%\" src=\"https://aimodelsharecontent.s3.amazonaws.com/aimodshare_banner.jpg\" /></p>\n",
        "\n",
        "\n",
        "---\n",
        "\n",
        "\n"
      ]
    },
    {
      "cell_type": "markdown",
      "metadata": {
        "id": "JuAkm2rldeUv"
      },
      "source": [
        "<p align=\"center\"><h1 align=\"center\">Image Classification with PyTorch</h1> <h3 align=\"center\">(Prepare to deploy model and preprocessor to REST API/Web Dashboard in four easy steps...)</h3></p>\n",
        "<p align=\"center\"><img width=\"80%\" src='https://drive.google.com/thumbnail?id=1ea5R66cqAXs3g4oIeEiUUMhictrL2IBg&sz=w1200-h1200' /></p>\n",
        "\n",
        "\n",
        "---\n",
        "\n"
      ]
    },
    {
      "cell_type": "markdown",
      "metadata": {
        "id": "OBoJu8oUk8UU"
      },
      "source": [
        "## **(1) Train Model Using `torch`**"
      ]
    },
    {
      "cell_type": "markdown",
      "metadata": {
        "id": "xWt5CNFznF64"
      },
      "source": [
        "We use the standard CIFAR-10 dataset, and train it just the way it is done in the eponymous CIFAR-10 `torch` tutorial. The caveat is that we will be loading images in `batch_size=1` inside the `DataLoader()`. NB CIFAR-10 has images of size 3x32x32 (3-channel/color images of 32x32 pixels in size)."
      ]
    },
    {
      "cell_type": "code",
      "metadata": {
        "id": "bsl62dqMC92n"
      },
      "source": [
        "import torch\n",
        "import torchvision\n",
        "import torchvision.transforms as transforms"
      ],
      "execution_count": 1,
      "outputs": []
    },
    {
      "cell_type": "markdown",
      "metadata": {
        "id": "lqQqCYu9p2yS"
      },
      "source": [
        "`torch` datasets are PILImage images of range [0, 1]. `ToTensor()` transforms to tensors of normalized range [-1, 1]."
      ]
    },
    {
      "cell_type": "code",
      "metadata": {
        "id": "Bg7Rcs0rTfmi",
        "outputId": "70df2ed0-e8c7-4056-b02c-2c94902dfbd5",
        "colab": {
          "base_uri": "https://localhost:8080/",
          "height": 100,
          "referenced_widgets": [
            "6a60c57e5cbd4bb086d03c07654bd2f6",
            "e141761a3ab44598b222ec6be17589bc",
            "c0bbc271e6cb4370b0b5a739e3ecafdc",
            "ef267084307c47bdb55aa12ccac3e841",
            "82a304d68d5647fca19004a816ef89b5",
            "ec3cfc0d820346a88f817c83fa17dcca",
            "0e4a05f6f2104036b87bd6c927da89d7",
            "6490fd3c7d2443d19fad9269362aca87"
          ]
        }
      },
      "source": [
        "transform = transforms.Compose(\n",
        "    [transforms.ToTensor(),\n",
        "     transforms.Normalize((0.5, 0.5, 0.5), (0.5, 0.5, 0.5))])\n",
        "\n",
        "trainset = torchvision.datasets.CIFAR10(root='./data', train=True,\n",
        "                                        download=True, transform=transform)\n",
        "trainloader = torch.utils.data.DataLoader(trainset, batch_size=1, # 50000 items.\n",
        "                                          shuffle=True, num_workers=2)\n",
        "\n",
        "testset = torchvision.datasets.CIFAR10(root='./data', train=False,\n",
        "                                       download=True, transform=transform)\n",
        "testloader = torch.utils.data.DataLoader(testset, batch_size=1, # 10000 items.\n",
        "                                         shuffle=False, num_workers=2)\n",
        "\n",
        "classes = ('plane', 'car', 'bird', 'cat',\n",
        "           'deer', 'dog', 'frog', 'horse', 'ship', 'truck')"
      ],
      "execution_count": 2,
      "outputs": [
        {
          "output_type": "stream",
          "text": [
            "Downloading https://www.cs.toronto.edu/~kriz/cifar-10-python.tar.gz to ./data/cifar-10-python.tar.gz\n"
          ],
          "name": "stdout"
        },
        {
          "output_type": "display_data",
          "data": {
            "application/vnd.jupyter.widget-view+json": {
              "model_id": "6a60c57e5cbd4bb086d03c07654bd2f6",
              "version_minor": 0,
              "version_major": 2
            },
            "text/plain": [
              "HBox(children=(FloatProgress(value=1.0, bar_style='info', max=1.0), HTML(value='')))"
            ]
          },
          "metadata": {
            "tags": []
          }
        },
        {
          "output_type": "stream",
          "text": [
            "Extracting ./data/cifar-10-python.tar.gz to ./data\n",
            "Files already downloaded and verified\n"
          ],
          "name": "stdout"
        }
      ]
    },
    {
      "cell_type": "code",
      "metadata": {
        "id": "75rEs_sgTrx6",
        "outputId": "e0690f9d-237e-445e-de72-ba79351c1b2d",
        "colab": {
          "base_uri": "https://localhost:8080/",
          "height": 283
        }
      },
      "source": [
        "import matplotlib.pyplot as plt\n",
        "import numpy as np\n",
        "\n",
        "# Functions to show an image.\n",
        "\n",
        "def imshow(img):\n",
        "    img = img / 2 + 0.5 # Unnormalize.\n",
        "    npimg = img.numpy()\n",
        "    plt.imshow(np.transpose(npimg, (1, 2, 0)))\n",
        "    plt.show()\n",
        "\n",
        "\n",
        "# Get some random training images.\n",
        "dataiter = iter(trainloader)\n",
        "images, labels = dataiter.next()\n",
        "\n",
        "# Show images.\n",
        "imshow(torchvision.utils.make_grid(images))\n",
        "# Print labels.\n",
        "print(' '.join('%5s' % classes[labels[j]] for j in range(1)))"
      ],
      "execution_count": 31,
      "outputs": [
        {
          "output_type": "display_data",
          "data": {
            "image/png": "[encoded data removed]",
            "text/plain": [
              "<Figure size 432x288 with 1 Axes>"
            ]
          },
          "metadata": {
            "tags": [],
            "needs_background": "light"
          }
        },
        {
          "output_type": "stream",
          "text": [
            "  dog\n"
          ],
          "name": "stdout"
        }
      ]
    },
    {
      "cell_type": "markdown",
      "metadata": {
        "id": "OXRkKwgwqQtC"
      },
      "source": [
        "Let's do a plain vanilla neural net that takes our color (3-channel) images."
      ]
    },
    {
      "cell_type": "code",
      "metadata": {
        "id": "x2g3ycuQT0BT"
      },
      "source": [
        "import torch.nn as nn\n",
        "import torch.nn.functional as F\n",
        "\n",
        "\n",
        "class Net(nn.Module):\n",
        "    def __init__(self):\n",
        "        super(Net, self).__init__()\n",
        "        self.conv1 = nn.Conv2d(3, 6, 5)\n",
        "        self.pool = nn.MaxPool2d(2, 2)\n",
        "        self.conv2 = nn.Conv2d(6, 16, 5)\n",
        "        self.fc1 = nn.Linear(16 * 5 * 5, 120)\n",
        "        self.fc2 = nn.Linear(120, 84)\n",
        "        self.fc3 = nn.Linear(84, 10)\n",
        "\n",
        "    def forward(self, x):\n",
        "        x = self.pool(F.relu(self.conv1(x)))\n",
        "        x = self.pool(F.relu(self.conv2(x)))\n",
        "        x = x.view(-1, 16 * 5 * 5)\n",
        "        x = F.relu(self.fc1(x))\n",
        "        x = F.relu(self.fc2(x))\n",
        "        x = self.fc3(x)\n",
        "        return x\n",
        "\n",
        "\n",
        "net = Net()"
      ],
      "execution_count": 32,
      "outputs": []
    },
    {
      "cell_type": "code",
      "metadata": {
        "id": "bS9yFzsRT3s-"
      },
      "source": [
        "import torch.optim as optim\n",
        "\n",
        "criterion = nn.CrossEntropyLoss() # Define a Loss function.\n",
        "optimizer = optim.SGD(net.parameters(), lr=0.001, momentum=0.9) # Define an optimizer."
      ],
      "execution_count": 33,
      "outputs": []
    },
    {
      "cell_type": "markdown",
      "metadata": {
        "id": "viVOPzl_tE2I"
      },
      "source": [
        "Loop over the data iterator, feed the inputs to the network and optimize."
      ]
    },
    {
      "cell_type": "code",
      "metadata": {
        "id": "xfcf4TciTfpN",
        "outputId": "54e509ba-d261-4f8e-81bb-6e8912377118",
        "colab": {
          "base_uri": "https://localhost:8080/",
          "height": 884
        }
      },
      "source": [
        "for epoch in range(2):  # Loop over the dataset multiple times.\n",
        "\n",
        "    running_loss = 0.0\n",
        "    for i, data in enumerate(trainloader, 0):\n",
        "        # Get the inputs; data is a list of [inputs, labels].\n",
        "        inputs, labels = data\n",
        "\n",
        "        # Zero the parameter gradients.\n",
        "        optimizer.zero_grad()\n",
        "\n",
        "        # Forward + backward + optimize.\n",
        "        outputs = net(inputs)\n",
        "        loss = criterion(outputs, labels)\n",
        "        loss.backward()\n",
        "        optimizer.step()\n",
        "\n",
        "        # Print statistics\n",
        "        running_loss += loss.item()\n",
        "        if i % 2000 == 1999: # Print every 2000 mini-batches.\n",
        "            print('[%d, %5d] loss: %.3f' %\n",
        "                  (epoch + 1, i + 1, running_loss / 2000))\n",
        "            running_loss = 0.0\n",
        "\n",
        "print('Finished Training')"
      ],
      "execution_count": 34,
      "outputs": [
        {
          "output_type": "stream",
          "text": [
            "[1,  2000] loss: 2.235\n",
            "[1,  4000] loss: 2.040\n",
            "[1,  6000] loss: 1.917\n",
            "[1,  8000] loss: 1.822\n",
            "[1, 10000] loss: 1.776\n",
            "[1, 12000] loss: 1.759\n",
            "[1, 14000] loss: 1.738\n",
            "[1, 16000] loss: 1.711\n",
            "[1, 18000] loss: 1.677\n",
            "[1, 20000] loss: 1.645\n",
            "[1, 22000] loss: 1.649\n",
            "[1, 24000] loss: 1.640\n",
            "[1, 26000] loss: 1.655\n",
            "[1, 28000] loss: 1.562\n",
            "[1, 30000] loss: 1.593\n",
            "[1, 32000] loss: 1.571\n",
            "[1, 34000] loss: 1.566\n",
            "[1, 36000] loss: 1.555\n",
            "[1, 38000] loss: 1.595\n",
            "[1, 40000] loss: 1.586\n",
            "[1, 42000] loss: 1.578\n",
            "[1, 44000] loss: 1.527\n",
            "[1, 46000] loss: 1.560\n",
            "[1, 48000] loss: 1.506\n",
            "[1, 50000] loss: 1.573\n",
            "[2,  2000] loss: 1.499\n",
            "[2,  4000] loss: 1.447\n",
            "[2,  6000] loss: 1.499\n",
            "[2,  8000] loss: 1.478\n",
            "[2, 10000] loss: 1.493\n",
            "[2, 12000] loss: 1.497\n",
            "[2, 14000] loss: 1.478\n",
            "[2, 16000] loss: 1.501\n",
            "[2, 18000] loss: 1.492\n",
            "[2, 20000] loss: 1.480\n",
            "[2, 22000] loss: 1.474\n",
            "[2, 24000] loss: 1.496\n",
            "[2, 26000] loss: 1.503\n",
            "[2, 28000] loss: 1.445\n",
            "[2, 30000] loss: 1.508\n",
            "[2, 32000] loss: 1.508\n",
            "[2, 34000] loss: 1.496\n",
            "[2, 36000] loss: 1.436\n",
            "[2, 38000] loss: 1.516\n",
            "[2, 40000] loss: 1.431\n",
            "[2, 42000] loss: 1.489\n",
            "[2, 44000] loss: 1.468\n",
            "[2, 46000] loss: 1.487\n",
            "[2, 48000] loss: 1.526\n",
            "[2, 50000] loss: 1.426\n",
            "Finished Training\n"
          ],
          "name": "stdout"
        }
      ]
    },
    {
      "cell_type": "markdown",
      "metadata": {
        "id": "Q06ktW4HlRCu"
      },
      "source": [
        "## **(2) Save Model to ONNX**"
      ]
    },
    {
      "cell_type": "code",
      "metadata": {
        "id": "jSuCVjabPqt_"
      },
      "source": [
        "model = Net()"
      ],
      "execution_count": 35,
      "outputs": []
    },
    {
      "cell_type": "code",
      "metadata": {
        "id": "vu2XmrCGR6cV",
        "outputId": "6ae65427-efa2-48bb-f9fd-e9a9eb00fd7b",
        "colab": {
          "base_uri": "https://localhost:8080/",
          "height": 153
        }
      },
      "source": [
        "model"
      ],
      "execution_count": 36,
      "outputs": [
        {
          "output_type": "execute_result",
          "data": {
            "text/plain": [
              "Net(\n",
              "  (conv1): Conv2d(3, 6, kernel_size=(5, 5), stride=(1, 1))\n",
              "  (pool): MaxPool2d(kernel_size=2, stride=2, padding=0, dilation=1, ceil_mode=False)\n",
              "  (conv2): Conv2d(6, 16, kernel_size=(5, 5), stride=(1, 1))\n",
              "  (fc1): Linear(in_features=400, out_features=120, bias=True)\n",
              "  (fc2): Linear(in_features=120, out_features=84, bias=True)\n",
              "  (fc3): Linear(in_features=84, out_features=10, bias=True)\n",
              ")"
            ]
          },
          "metadata": {
            "tags": []
          },
          "execution_count": 36
        }
      ]
    },
    {
      "cell_type": "code",
      "metadata": {
        "id": "hb88jVmUO1UH"
      },
      "source": [
        "dummy_input = next(iter(testloader))[0] # First observation from the batch. Tensor with shape torch.Size([1, 3, 32, 32])."
      ],
      "execution_count": 37,
      "outputs": []
    },
    {
      "cell_type": "code",
      "metadata": {
        "id": "78azKt1_OgPR"
      },
      "source": [
        "torch.onnx.export(\n",
        "    model.cpu(),\n",
        "    dummy_input,\n",
        "    'my_model.onnx',\n",
        "    export_params=True,\n",
        "    do_constant_folding=True,\n",
        ")"
      ],
      "execution_count": 38,
      "outputs": []
    },
    {
      "cell_type": "markdown",
      "metadata": {
        "id": "YBOt1rFZllpf"
      },
      "source": [
        "## **(3) Write a Preprocessor Function**\n",
        "\n",
        "> ### Preprocessor functions for image prediction models can use ***`cv2`*** and ***`numpy`*** to read in and preprocess images. "
      ]
    },
    {
      "cell_type": "markdown",
      "metadata": {
        "id": "qj52M0FXwApr"
      },
      "source": [
        "Since we pre-process the images using simple packages, we need to read in the CIFAR-10 dataset from the previously downloaded `cifar-10-batches-py`. Since we rely on `os` and `pickle`, we do this ouside the pre-processor function. The output is an `ndarray` for the target (images) and a list for the labels. We only load in the test-set."
      ]
    },
    {
      "cell_type": "code",
      "metadata": {
        "id": "FKkWetDemtF6"
      },
      "source": [
        "img_rows, img_cols = 32, 32\n",
        "input_shape = (img_rows, img_cols, 3)\n",
        "\n",
        "def load_CIFAR_batch(filename):\n",
        "    \"\"\"\n",
        "    Load a single batch of CIFAR-10.\n",
        "    \"\"\"\n",
        "    with open(filename, 'rb') as f:\n",
        "        datadict = pickle.load(f, encoding='latin1') # Python 3 and newer.\n",
        "        X = datadict['data']\n",
        "        y = datadict['labels']\n",
        "        return X, y\n",
        "\n",
        "def load_CIFAR10(ROOT):\n",
        "    \"\"\"\n",
        "    Load all, in this case, the test batch of CIFAR-10.\n",
        "    \"\"\"\n",
        "    f = os.path.join(ROOT, 'test_batch') # Load the test_batch.\n",
        "    X, y = load_CIFAR_batch(f)\n",
        "    return X, y"
      ],
      "execution_count": 39,
      "outputs": []
    },
    {
      "cell_type": "code",
      "metadata": {
        "id": "m48N-l8XmtD2"
      },
      "source": [
        "cifar10_dir = '/content/data/cifar-10-batches-py' # Replace with your path.\n",
        "\n",
        "import os\n",
        "from six.moves import cPickle as pickle\n",
        "\n",
        "X, y = load_CIFAR10(cifar10_dir) # X images (targets), y labels."
      ],
      "execution_count": 40,
      "outputs": []
    },
    {
      "cell_type": "markdown",
      "metadata": {
        "id": "C2o7NddAtWI0"
      },
      "source": [
        "`torch` tensors assume color channel is the **first** dimension, whereas `matplotlib` assumes it's the **third** dimension. Therefore always convert images (H x W x **C**) to a `torch.Tensor` of shape (**C** x H x W), and vice-versa for plotting."
      ]
    },
    {
      "cell_type": "code",
      "metadata": {
        "id": "cn4kSvNF252r"
      },
      "source": [
        "def preprocessor(target):\n",
        "        \"\"\"\n",
        "        This function preprocesses images in the form of ndarray, reshapes, normalizes and\n",
        "        converts them to float32 for ONNX before unstacking to get the requisite format for runtime.\n",
        "        \n",
        "        params:\n",
        "            target\n",
        "                loaded images as ndarray\n",
        "                      \n",
        "        returns:\n",
        "            preprocessed_X\n",
        "                preprocessed image data\n",
        "                  \n",
        "        \"\"\"\n",
        "           \n",
        "        import numpy as np\n",
        "\n",
        "        X = target # Read in the targets.\n",
        "        X = X.reshape(10000, 3, 32, 32) # Reshape to move channels last-to-first.\n",
        "        X = X.astype('float32') # float32 for ONNX.\n",
        "        X /= 255 # Normalization.\n",
        "        *X, = X # Use the star operator to un-stack a numpy array.\n",
        "        preprocessed_X = [np.expand_dims(i, axis=0) for i in X] # Adding 1 to object shape to finalize expected run-time prediction shape.                                                                            \n",
        "\n",
        "        return preprocessed_X"
      ],
      "execution_count": 41,
      "outputs": []
    },
    {
      "cell_type": "code",
      "metadata": {
        "id": "kJQTH9UvmtBj"
      },
      "source": [
        "testdata = preprocessor(target=X)"
      ],
      "execution_count": 42,
      "outputs": []
    },
    {
      "cell_type": "markdown",
      "metadata": {
        "id": "hAwbLXqDtwD3"
      },
      "source": [
        "### **Test Model Output Using `onnxruntime`**"
      ]
    },
    {
      "cell_type": "code",
      "metadata": {
        "id": "w9ThQhDDRGuL"
      },
      "source": [
        "!pip install onnxruntime"
      ],
      "execution_count": null,
      "outputs": []
    },
    {
      "cell_type": "code",
      "metadata": {
        "id": "a8EWIfvURPfS",
        "outputId": "bb984d4f-3c2d-45cf-c02a-d61c25ca76bb",
        "colab": {
          "base_uri": "https://localhost:8080/",
          "height": 34
        }
      },
      "source": [
        "import onnxruntime as rt\n",
        "modeltest = rt.InferenceSession('my_model.onnx')\n",
        "\n",
        "input_name = modeltest.get_inputs()[0].name\n",
        "input_data=testdata[3] # Needs to be float32. Try e.g. the fourth image from testdata.\n",
        "\n",
        "res=modeltest.run(None, {input_name: input_data})\n",
        "res[0]\n",
        "prob = res[0]\n",
        "\n",
        "def predict_classes(x): # Adjusted from Keras GitHub code.\n",
        "        proba=x\n",
        "        if proba.shape[-1] > 1:\n",
        "          return proba.argmax(axis=-1)\n",
        "        else:\n",
        "          return (proba > 0.5).astype('int32')\n",
        "\n",
        "prediction_index=predict_classes(prob)\n",
        "def index_to_label(labels,index_n):\n",
        "    return labels[index_n]\n",
        "labels=['plane', 'car', 'bird', 'cat',\n",
        "        'deer', 'dog', 'frog', 'horse', 'ship', 'truck']\n",
        "result=list(map(lambda x: labels[x], prediction_index))\n",
        "\n",
        "result"
      ],
      "execution_count": 56,
      "outputs": [
        {
          "output_type": "execute_result",
          "data": {
            "text/plain": [
              "['plane']"
            ]
          },
          "metadata": {
            "tags": []
          },
          "execution_count": 56
        }
      ]
    },
    {
      "cell_type": "markdown",
      "metadata": {
        "id": "z1ZgQTsrRbcx"
      },
      "source": [
        "### **Display a Test Model Output**\n",
        "\n",
        "> #### Optional. NB The image may or may not match depending on how well the model learned on the training set. "
      ]
    },
    {
      "cell_type": "code",
      "metadata": {
        "id": "BjkDt0sVXTVN"
      },
      "source": [
        "testpic = testdata[3] # Try e.g. the fourth image from testdata.\n",
        "testpic = torch.from_numpy(testpic)"
      ],
      "execution_count": 57,
      "outputs": []
    },
    {
      "cell_type": "markdown",
      "metadata": {
        "id": "fwTQ8XiTvlpx"
      },
      "source": [
        "Remember, shape (H x W x **C**) for plotting."
      ]
    },
    {
      "cell_type": "code",
      "metadata": {
        "id": "ZChhhJxems3j",
        "outputId": "e8fa86c7-b54c-4890-e149-317d6fb6676c",
        "colab": {
          "base_uri": "https://localhost:8080/",
          "height": 266
        }
      },
      "source": [
        "def imshow(img):\n",
        "    img = img / 2 + 0.5 # Unnormalize.\n",
        "    npimg = img.numpy()\n",
        "    plt.imshow(np.transpose(npimg, (1, 2, 0)))\n",
        "    plt.show()\n",
        "\n",
        "# Show images.\n",
        "imshow(torchvision.utils.make_grid(testpic))"
      ],
      "execution_count": 58,
      "outputs": [
        {
          "output_type": "display_data",
          "data": {
            "image/png": "[encoded data removed]",
            "text/plain": [
              "<Figure size 432x288 with 1 Axes>"
            ]
          },
          "metadata": {
            "tags": [],
            "needs_background": "light"
          }
        }
      ]
    },
    {
      "cell_type": "markdown",
      "metadata": {
        "id": "xhvNRTx4lxbc"
      },
      "source": [
        "## **(4) Save Preprocessor**"
      ]
    },
    {
      "cell_type": "code",
      "metadata": {
        "id": "8xsfDZajhgbm"
      },
      "source": [
        "# ! pip3 install aimodelshare"
      ],
      "execution_count": null,
      "outputs": []
    },
    {
      "cell_type": "code",
      "metadata": {
        "id": "ij0Dh8afhgYZ"
      },
      "source": [
        "def export_preprocessor(preprocessor_function, filepath):\n",
        "    import dill\n",
        "    with open(filepath, \"wb\") as f:\n",
        "        dill.dump(preprocessor_function, f)\n",
        "\n",
        "# import aimodelshare as ai # Once we can deploy this, we use it in lieu of the below.\n",
        "# ai.export_preprocessor(preprocessor, \"preprocessor.pkl\")\n",
        "\n",
        "export_preprocessor(preprocessor, \"preprocessor.pkl\")"
      ],
      "execution_count": 59,
      "outputs": []
    }
  ]
}