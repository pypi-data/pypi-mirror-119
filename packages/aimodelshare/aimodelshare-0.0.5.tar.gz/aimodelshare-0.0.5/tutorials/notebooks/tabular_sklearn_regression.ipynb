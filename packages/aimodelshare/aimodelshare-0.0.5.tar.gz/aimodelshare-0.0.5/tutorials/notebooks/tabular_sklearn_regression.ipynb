{
  "nbformat": 4,
  "nbformat_minor": 0,
  "metadata": {
    "kernelspec": {
      "display_name": "Python 3",
      "language": "python",
      "name": "python3"
    },
    "language_info": {
      "codemirror_mode": {
        "name": "ipython",
        "version": 3
      },
      "file_extension": ".py",
      "mimetype": "text/x-python",
      "name": "python",
      "nbconvert_exporter": "python",
      "pygments_lexer": "ipython3",
      "version": "3.7.0"
    },
    "colab": {
      "name": "tabular_sklearn_regression.ipynb",
      "provenance": [],
      "collapsed_sections": [],
      "toc_visible": true
    }
  },
  "cells": [
    {
      "cell_type": "markdown",
      "metadata": {
        "id": "0BviI4QIdWiq",
        "colab_type": "text"
      },
      "source": [
        "<p align=\"center\"><img width=\"50%\" src=\"https://aimodelsharecontent.s3.amazonaws.com/aimodshare_banner.jpg\" /></p>\n",
        "\n",
        "\n",
        "---\n",
        "\n",
        "\n"
      ]
    },
    {
      "cell_type": "markdown",
      "metadata": {
        "id": "gYNp684Tk3tb",
        "colab_type": "text"
      },
      "source": [
        "<p align=\"center\"><h1 align=\"center\">Boston Housing Prices Regression Tutorial</h1> <h3 align=\"center\">(Prepare to deploy model and preprocessor to REST API/Web Dashboard in four easy steps...)</h3></p>\n",
        "<p align=\"center\"><img width=\"80%\" src=\"https://aimodelsharecontent.s3.amazonaws.com/ModelandPreprocessorObjectPreparation.jpeg\" /></p>\n",
        "\n",
        "\n",
        "---\n",
        "\n"
      ]
    },
    {
      "cell_type": "markdown",
      "metadata": {
        "id": "GyskXyNqmBgy",
        "colab_type": "text"
      },
      "source": [
        "## **(1) Preprocessor Function & Setup**\n",
        "\n",
        "\n"
      ]
    },
    {
      "cell_type": "code",
      "metadata": {
        "id": "rjS1JhdVohXG",
        "colab_type": "code",
        "colab": {}
      },
      "source": [
        "! pip install scikit-learn --upgrade # Load newest version of sklearn."
      ],
      "execution_count": null,
      "outputs": []
    },
    {
      "cell_type": "code",
      "metadata": {
        "id": "VfTZoC1t7gVO",
        "colab_type": "code",
        "colab": {
          "base_uri": "https://localhost:8080/",
          "height": 111
        },
        "outputId": "5d650075-3590-428c-e42f-94234bf5a3bc"
      },
      "source": [
        "import pandas as pd\n",
        "from sklearn import datasets, linear_model\n",
        "\n",
        "# Obtaining the Boston Housing Prices dataset...\n",
        "boston = datasets.load_boston()\n",
        "X = pd.DataFrame(boston.data)\n",
        "\n",
        "X.columns = boston.feature_names\n",
        "y = boston.target # Or Price, i.e. median value of a house to be predicted.\n",
        "X.head(2)"
      ],
      "execution_count": 1,
      "outputs": [
        {
          "output_type": "execute_result",
          "data": {
            "text/html": [
              "<div>\n",
              "<style scoped>\n",
              "    .dataframe tbody tr th:only-of-type {\n",
              "        vertical-align: middle;\n",
              "    }\n",
              "\n",
              "    .dataframe tbody tr th {\n",
              "        vertical-align: top;\n",
              "    }\n",
              "\n",
              "    .dataframe thead th {\n",
              "        text-align: right;\n",
              "    }\n",
              "</style>\n",
              "<table border=\"1\" class=\"dataframe\">\n",
              "  <thead>\n",
              "    <tr style=\"text-align: right;\">\n",
              "      <th></th>\n",
              "      <th>CRIM</th>\n",
              "      <th>ZN</th>\n",
              "      <th>INDUS</th>\n",
              "      <th>CHAS</th>\n",
              "      <th>NOX</th>\n",
              "      <th>RM</th>\n",
              "      <th>AGE</th>\n",
              "      <th>DIS</th>\n",
              "      <th>RAD</th>\n",
              "      <th>TAX</th>\n",
              "      <th>PTRATIO</th>\n",
              "      <th>B</th>\n",
              "      <th>LSTAT</th>\n",
              "    </tr>\n",
              "  </thead>\n",
              "  <tbody>\n",
              "    <tr>\n",
              "      <th>0</th>\n",
              "      <td>0.00632</td>\n",
              "      <td>18.0</td>\n",
              "      <td>2.31</td>\n",
              "      <td>0.0</td>\n",
              "      <td>0.538</td>\n",
              "      <td>6.575</td>\n",
              "      <td>65.2</td>\n",
              "      <td>4.0900</td>\n",
              "      <td>1.0</td>\n",
              "      <td>296.0</td>\n",
              "      <td>15.3</td>\n",
              "      <td>396.9</td>\n",
              "      <td>4.98</td>\n",
              "    </tr>\n",
              "    <tr>\n",
              "      <th>1</th>\n",
              "      <td>0.02731</td>\n",
              "      <td>0.0</td>\n",
              "      <td>7.07</td>\n",
              "      <td>0.0</td>\n",
              "      <td>0.469</td>\n",
              "      <td>6.421</td>\n",
              "      <td>78.9</td>\n",
              "      <td>4.9671</td>\n",
              "      <td>2.0</td>\n",
              "      <td>242.0</td>\n",
              "      <td>17.8</td>\n",
              "      <td>396.9</td>\n",
              "      <td>9.14</td>\n",
              "    </tr>\n",
              "  </tbody>\n",
              "</table>\n",
              "</div>"
            ],
            "text/plain": [
              "      CRIM    ZN  INDUS  CHAS    NOX  ...  RAD    TAX  PTRATIO      B  LSTAT\n",
              "0  0.00632  18.0   2.31   0.0  0.538  ...  1.0  296.0     15.3  396.9   4.98\n",
              "1  0.02731   0.0   7.07   0.0  0.469  ...  2.0  242.0     17.8  396.9   9.14\n",
              "\n",
              "[2 rows x 13 columns]"
            ]
          },
          "metadata": {
            "tags": []
          },
          "execution_count": 1
        }
      ]
    },
    {
      "cell_type": "code",
      "metadata": {
        "id": "YsW2O6OUW_N4",
        "colab_type": "code",
        "colab": {
          "base_uri": "https://localhost:8080/",
          "height": 68
        },
        "outputId": "2216e2d3-22a1-4a4a-e7fa-1aa194102d15"
      },
      "source": [
        "# Set up training and test data...\n",
        "from sklearn.model_selection import train_test_split\n",
        "\n",
        "X_train, X_test, y_train, y_test = train_test_split(X, y, test_size=0.20, random_state=1987)\n",
        "\n",
        "print(X_train.shape)\n",
        "print(y_train.shape)\n",
        "print(X.columns.tolist())"
      ],
      "execution_count": 2,
      "outputs": [
        {
          "output_type": "stream",
          "text": [
            "(404, 13)\n",
            "(404,)\n",
            "['CRIM', 'ZN', 'INDUS', 'CHAS', 'NOX', 'RM', 'AGE', 'DIS', 'RAD', 'TAX', 'PTRATIO', 'B', 'LSTAT']\n"
          ],
          "name": "stdout"
        }
      ]
    },
    {
      "cell_type": "code",
      "metadata": {
        "id": "-6RBNdinfApF",
        "colab_type": "code",
        "colab": {}
      },
      "source": [
        "from sklearn.preprocessing import StandardScaler, OneHotEncoder\n",
        "from sklearn.compose import ColumnTransformer, make_column_transformer\n",
        "from sklearn.pipeline import Pipeline\n",
        "from sklearn.impute import SimpleImputer\n",
        "from sklearn.preprocessing import StandardScaler, OneHotEncoder\n",
        "\n",
        "# We create the preprocessing pipelines for both numeric and categorical data.\n",
        "numeric_features = ['CRIM', 'ZN', 'INDUS', 'NOX', 'RM', 'AGE', 'DIS',  'TAX', 'PTRATIO', 'B', 'LSTAT']\n",
        "numeric_transformer = Pipeline(steps=[\n",
        "    ('imputer', SimpleImputer(strategy='median')),\n",
        "    ('scaler', StandardScaler())])\n",
        "\n",
        "categorical_features = ['CHAS', 'RAD']\n",
        "\n",
        "# Replacing missing values with Modal value and then one hot encoding.\n",
        "categorical_transformer = Pipeline(steps=[\n",
        "    ('imputer', SimpleImputer(strategy='most_frequent')),\n",
        "    ('onehot', OneHotEncoder(handle_unknown='ignore'))])\n",
        "\n",
        "# Final preprocessor object set up with ColumnTransformer.\n",
        "preprocessor = ColumnTransformer(\n",
        "    transformers=[\n",
        "        ('num', numeric_transformer, numeric_features),\n",
        "        ('cat', categorical_transformer, categorical_features)])\n",
        "\n",
        "\n",
        "# Fit your preprocessor object.\n",
        "prediction_input_preprocessor=preprocessor.fit(X_train) \n",
        "\n",
        "import pickle\n",
        "pickle.dump(prediction_input_preprocessor, open(\"preprocessor.pkl\", \"wb\"))"
      ],
      "execution_count": 3,
      "outputs": []
    },
    {
      "cell_type": "markdown",
      "metadata": {
        "id": "VQD978yOoZWu",
        "colab_type": "text"
      },
      "source": [
        "### **Write a Preprocessor Function**"
      ]
    },
    {
      "cell_type": "code",
      "metadata": {
        "id": "bs_6j1VEadXI",
        "colab_type": "code",
        "colab": {}
      },
      "source": [
        "# This is our preprocessor function to save using ai.export_preprocessor()...\n",
        "def preprocessor(data):\n",
        "  preprocessed_data=prediction_input_preprocessor.transform(data)\n",
        "  return preprocessed_data"
      ],
      "execution_count": 4,
      "outputs": []
    },
    {
      "cell_type": "markdown",
      "metadata": {
        "id": "x3KEaRaZW_N1",
        "colab_type": "text"
      },
      "source": [
        "## **(2) Build Your Model Using `sklearn`**"
      ]
    },
    {
      "cell_type": "code",
      "metadata": {
        "id": "YsK3JvK9Eikv",
        "colab_type": "code",
        "colab": {
          "base_uri": "https://localhost:8080/",
          "height": 51
        },
        "outputId": "485330cb-2aeb-4975-b39a-236872f19d9c"
      },
      "source": [
        "# Ridge...\n",
        "from sklearn.linear_model import Ridge\n",
        "import numpy as np\n",
        "\n",
        "model = Ridge(alpha=0.1)\n",
        "\n",
        "ridge01 = model.fit(preprocessor(X_train), y_train)\n",
        "print(\"Training Set Score: {:.2f}\".format(ridge01.score(preprocessor(X_train), y_train)))\n",
        "print(\"Number of Features Used: {}\".format(np.sum(ridge01.coef_ != 0)))"
      ],
      "execution_count": 5,
      "outputs": [
        {
          "output_type": "stream",
          "text": [
            "Training Set Score: 0.76\n",
            "Number of Features Used: 22\n"
          ],
          "name": "stdout"
        }
      ]
    },
    {
      "cell_type": "code",
      "metadata": {
        "id": "iZM9kHZ3Ei6R",
        "colab_type": "code",
        "colab": {
          "base_uri": "https://localhost:8080/",
          "height": 374
        },
        "outputId": "5a73f706-a5d8-4a7b-8bf3-69a9374c23a6"
      },
      "source": [
        "y_pred = model.predict(preprocessor(X_test))\n",
        "\n",
        "y_pred"
      ],
      "execution_count": 6,
      "outputs": [
        {
          "output_type": "execute_result",
          "data": {
            "text/plain": [
              "array([26.25463487, 23.99629382, 13.69158579, 26.52789063, 19.481455  ,\n",
              "       27.061102  , 19.84509809, 17.06704589, 37.7724682 , 18.3741863 ,\n",
              "       21.720748  , 23.0831141 , 19.44467694, 13.40660907, 18.96488121,\n",
              "       22.84565596, 12.67247963, 25.75084874, 19.44797971, 25.77103517,\n",
              "       19.40479138, 32.96789011, 16.90885073, 23.53019707, 30.63033334,\n",
              "       29.09652461, 19.50024896, 23.6724921 , 18.30087037, 17.47380127,\n",
              "       26.7869328 , 17.59872458, 18.79516165, 30.71429253, 19.48999806,\n",
              "       17.69167317, 15.24538483, 23.80891891, 11.09866049, 16.93745326,\n",
              "       28.35236255, 23.1522718 , 23.83119052, 17.0438004 , 24.07431787,\n",
              "       18.00364799, 24.97364705, 26.34816236, 26.01149912, 14.32372355,\n",
              "       26.16256073, 22.81466219, 20.51861221, 19.7251867 , 20.93974742,\n",
              "       13.11764962, 14.61425139, 39.75610896, 18.87160765, 24.47477101,\n",
              "       17.77435009, 24.680246  , 35.7646022 , 38.31317439, 28.55902541,\n",
              "       26.55579488, 27.08438021, 19.03856845, 20.36184636, 19.30610114,\n",
              "       22.11192567, 23.10499961, 17.32024035, 27.33459148, 20.92989381,\n",
              "       23.19996168, 20.72664097, 16.1699513 , 18.68438478,  6.23263746,\n",
              "        9.96826977, 17.91310223, 27.25896764, 26.10854691, 21.55015985,\n",
              "       36.3844484 , 19.19102701, 22.97893772, 40.31987931,  8.02051255,\n",
              "       15.58130972, 32.60283756, 34.84741069, 18.26730627, 14.47650524,\n",
              "       20.55991553, 18.4687752 , 20.71122203, 11.59217387, 25.17440733,\n",
              "       29.01455171, 15.56482678])"
            ]
          },
          "metadata": {
            "tags": []
          },
          "execution_count": 6
        }
      ]
    },
    {
      "cell_type": "code",
      "metadata": {
        "id": "H8XVfgWAEjHG",
        "colab_type": "code",
        "colab": {
          "base_uri": "https://localhost:8080/",
          "height": 34
        },
        "outputId": "eb12ddca-d362-453b-b975-33813e8cc49a"
      },
      "source": [
        "from sklearn.metrics import mean_squared_error\n",
        "\n",
        "print(\"RMSE: {:.2f}\".format(mean_squared_error(y_test, y_pred, squared=False)))"
      ],
      "execution_count": 7,
      "outputs": [
        {
          "output_type": "stream",
          "text": [
            "RMSE: 4.66\n"
          ],
          "name": "stdout"
        }
      ]
    },
    {
      "cell_type": "markdown",
      "metadata": {
        "id": "nA3j4pFj6_nl",
        "colab_type": "text"
      },
      "source": [
        "## **(3) Save Preprocessor**"
      ]
    },
    {
      "cell_type": "code",
      "metadata": {
        "id": "XX7H1LvL6_7J",
        "colab_type": "code",
        "colab": {}
      },
      "source": [
        "# ! pip3 install aimodelshare"
      ],
      "execution_count": null,
      "outputs": []
    },
    {
      "cell_type": "code",
      "metadata": {
        "id": "6H5kjnbg7AO1",
        "colab_type": "code",
        "colab": {}
      },
      "source": [
        "def export_preprocessor(preprocessor_function, filepath):\n",
        "    import dill\n",
        "    with open(filepath, \"wb\") as f:\n",
        "        dill.dump(preprocessor_function, f)\n",
        "\n",
        "# import aimodelshare as ai # Once we can deploy this, we use it in lieu of the below.\n",
        "# ai.export_preprocessor(preprocessor, \"preprocessor.pkl\")\n",
        "\n",
        "export_preprocessor(preprocessor, \"preprocessor.pkl\")"
      ],
      "execution_count": 8,
      "outputs": []
    },
    {
      "cell_type": "markdown",
      "metadata": {
        "id": "xZ4AKVvh6i38",
        "colab_type": "text"
      },
      "source": [
        "## **(4) Save `sklearn` Model to Onnx File Format**"
      ]
    },
    {
      "cell_type": "code",
      "metadata": {
        "id": "j741h11LvmYa",
        "colab_type": "code",
        "colab": {}
      },
      "source": [
        "! pip3 install skl2onnx"
      ],
      "execution_count": null,
      "outputs": []
    },
    {
      "cell_type": "code",
      "metadata": {
        "id": "p1382KctFaL8",
        "colab_type": "code",
        "colab": {}
      },
      "source": [
        "# Convert into ONNX format...\n",
        "\n",
        "from skl2onnx import convert_sklearn\n",
        "from skl2onnx.common.data_types import FloatTensorType\n",
        "\n",
        "initial_type = [('float_input', FloatTensorType([None, 22]))]\n",
        "onx = convert_sklearn(model, initial_types=initial_type)\n",
        "\n",
        "# Save model to local .onnx file...\n",
        "with open(\"my_model.onnx\", \"wb\") as f:\n",
        "    f.write(onx.SerializeToString())"
      ],
      "execution_count": 10,
      "outputs": []
    },
    {
      "cell_type": "code",
      "metadata": {
        "id": "B9vpDDCgg3u5",
        "colab_type": "code",
        "colab": {}
      },
      "source": [
        "# Test the ONNX Model. (Optional.)"
      ],
      "execution_count": null,
      "outputs": []
    },
    {
      "cell_type": "code",
      "metadata": {
        "id": "xvh7mme4hPIu",
        "colab_type": "code",
        "colab": {}
      },
      "source": [
        "! pip3 install onnxruntime"
      ],
      "execution_count": null,
      "outputs": []
    },
    {
      "cell_type": "code",
      "metadata": {
        "id": "UJJACl6WhYpx",
        "colab_type": "code",
        "colab": {}
      },
      "source": [
        "# Test...\n",
        "\n",
        "import onnxruntime as rt\n",
        "sess = rt.InferenceSession('/content/my_model.onnx') # ONNX model pathway.\n",
        "\n",
        "input_name = sess.get_inputs()[0].name\n",
        "output_name = sess.get_outputs()[0].name"
      ],
      "execution_count": 12,
      "outputs": []
    },
    {
      "cell_type": "code",
      "metadata": {
        "id": "dZoZaXBMhfwV",
        "colab_type": "code",
        "colab": {}
      },
      "source": [
        "sess_pred = sess.run([output_name], {input_name: preprocessor(X_test).astype(np.float32)}) # dtype=float32.\n",
        "onx_pred = np.asarray(sess_pred, dtype=np.float32).reshape(102,) # Align shape."
      ],
      "execution_count": 14,
      "outputs": []
    },
    {
      "cell_type": "code",
      "metadata": {
        "id": "wC8Vk2Fnhveu",
        "colab_type": "code",
        "colab": {
          "base_uri": "https://localhost:8080/",
          "height": 51
        },
        "outputId": "70651ffd-7a3c-474b-87b6-8664cd38fd54"
      },
      "source": [
        "onnx_mse = mean_squared_error(y_test, onx_pred, squared=False)\n",
        "\n",
        "print('*** Onnx RMSE: {:.2f}\\n'.format(onnx_mse)) # Cf. pre-ONNX metric."
      ],
      "execution_count": 16,
      "outputs": [
        {
          "output_type": "stream",
          "text": [
            "*** Onnx RMSE: 4.66\n",
            "\n"
          ],
          "name": "stdout"
        }
      ]
    }
  ]
}